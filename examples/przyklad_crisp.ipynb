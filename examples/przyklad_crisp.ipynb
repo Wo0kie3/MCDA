{
 "cells": [
  {
   "cell_type": "code",
   "execution_count": 2,
   "metadata": {},
   "outputs": [],
   "source": [
    "from mcda.matrices import PerformanceTable\n",
    "from mcda.scales import QuantitativeScale, PreferenceDirection\n",
    "from mcda.outranking.electre import Electre3\n",
    "from mcda.outranking.promethee import Promethee1, Promethee2\n",
    "import numpy as np\n",
    "from mcda.functions import VShapeFunction\n",
    "from mcda.relations import PreferenceStructure\n",
    "from helper_functions import dict_to_matrix, dict_to_matrix_with_prefix, net_flow_score, net_flow_score_pos_neg, create_preference_matrix, outranking_ranking, resolve_matrix_preferences, visualize_outranking\n",
    "\n",
    "from new_methods.crisp_partial import crisp_partial\n",
    "from new_methods.electre_partial import electre_partial\n",
    "from new_methods.promethee_partial import promethee_partial\n",
    "\n",
    "from new_methods.crisp_complete import crisp_complete\n",
    "from new_methods.electre_complete import electre_complete\n",
    "from new_methods.promethee_complete import promethee_complete\n",
    "from hassediagram import plot_hasse\n"
   ]
  },
  {
   "cell_type": "code",
   "execution_count": 3,
   "metadata": {},
   "outputs": [],
   "source": [
    "labels = [\"A1\", \"A2\", \"A3\", \"A4\", \"A5\", \"A6\", \"A7\"]"
   ]
  },
  {
   "cell_type": "code",
   "execution_count": 4,
   "metadata": {},
   "outputs": [],
   "source": [
    "weights = [8, 4, 7, 2, 5]"
   ]
  },
  {
   "cell_type": "code",
   "execution_count": 5,
   "metadata": {},
   "outputs": [],
   "source": [
    "alternatives = [\n",
    "    \"A1\",\n",
    "    \"A2\",\n",
    "    \"A3\",\n",
    "    \"A4\",\n",
    "    \"A5\",\n",
    "    \"A6\",\n",
    "    \"A7\"\n",
    "]\n",
    "\n",
    "# Definicja skali dla każdego kryterium\n",
    "scales = {\n",
    "    0: QuantitativeScale(1000, 4000, preference_direction=PreferenceDirection.MIN),# Price \n",
    "    1: QuantitativeScale(32, 1024, preference_direction=PreferenceDirection.MAX),    # Memory Size\n",
    "    2: QuantitativeScale(8, 120, preference_direction=PreferenceDirection.MAX),     # Camera \n",
    "    3: QuantitativeScale(0, 5, preference_direction=PreferenceDirection.MAX),      # Functionalities \n",
    "    4: QuantitativeScale(12, 32, preference_direction=PreferenceDirection.MAX),      # Battery life\n",
    "}\n",
    "\n",
    "cutoff = 0.7 # threshold\n",
    "\n",
    "dataset = PerformanceTable(\n",
    "    [[2200, 128, 120, 3, 16], [2800, 128, 16, 4, 28], [1200, 256, 120, 4, 12], [3400, 64, 16, 3, 24], [1600, 256, 32, 2, 20], [1000, 64, 32, 4, 26], [3200, 128, 64, 4, 22]],\n",
    "    alternatives=alternatives, scales=scales\n",
    ")\n",
    "# Wagi kryteriów\n",
    "W = {\n",
    "    0: weights[0],  # Price \n",
    "    1: weights[1],   # Memory Size\n",
    "    2: weights[2],  # Camera \n",
    "    3: weights[3],  # Functionalities \n",
    "    4: weights[4]   # Battery life\n",
    "}\n",
    "\n",
    "# Parametry Electre III\n",
    "\n",
    "I = {0: 300, 1: 64,  2: 12, 3: 2,      4: 2}\n",
    "P = {0: 600, 1: 256, 2: 32, 3: 3,      4: 6}\n",
    "V = {0: 900, 1: 512, 2: 64, 3: np.inf, 4: 12}"
   ]
  },
  {
   "cell_type": "code",
   "execution_count": 6,
   "metadata": {},
   "outputs": [],
   "source": [
    "electre3 = Electre3(performance_table=dataset, \n",
    "                    criteria_weights=W, \n",
    "                    indifference_thresholds=I, \n",
    "                    preference_thresholds=P, \n",
    "                    veto_thresholds=V)"
   ]
  },
  {
   "cell_type": "code",
   "execution_count": 7,
   "metadata": {},
   "outputs": [],
   "source": [
    "electre_matrix = electre3.construct().data\n",
    "electre_binary_matrix = (electre_matrix >= cutoff).astype(int)"
   ]
  },
  {
   "cell_type": "markdown",
   "metadata": {},
   "source": [
    "# relacje"
   ]
  },
  {
   "cell_type": "code",
   "execution_count": 8,
   "metadata": {},
   "outputs": [
    {
     "data": {
      "text/html": [
       "<div>\n",
       "<style scoped>\n",
       "    .dataframe tbody tr th:only-of-type {\n",
       "        vertical-align: middle;\n",
       "    }\n",
       "\n",
       "    .dataframe tbody tr th {\n",
       "        vertical-align: top;\n",
       "    }\n",
       "\n",
       "    .dataframe thead th {\n",
       "        text-align: right;\n",
       "    }\n",
       "</style>\n",
       "<table border=\"1\" class=\"dataframe\">\n",
       "  <thead>\n",
       "    <tr style=\"text-align: right;\">\n",
       "      <th></th>\n",
       "      <th>A1</th>\n",
       "      <th>A2</th>\n",
       "      <th>A3</th>\n",
       "      <th>A4</th>\n",
       "      <th>A5</th>\n",
       "      <th>A6</th>\n",
       "      <th>A7</th>\n",
       "    </tr>\n",
       "  </thead>\n",
       "  <tbody>\n",
       "    <tr>\n",
       "      <th>A1</th>\n",
       "      <td>1</td>\n",
       "      <td>0</td>\n",
       "      <td>0</td>\n",
       "      <td>1</td>\n",
       "      <td>0</td>\n",
       "      <td>0</td>\n",
       "      <td>1</td>\n",
       "    </tr>\n",
       "    <tr>\n",
       "      <th>A2</th>\n",
       "      <td>0</td>\n",
       "      <td>1</td>\n",
       "      <td>0</td>\n",
       "      <td>1</td>\n",
       "      <td>0</td>\n",
       "      <td>0</td>\n",
       "      <td>1</td>\n",
       "    </tr>\n",
       "    <tr>\n",
       "      <th>A3</th>\n",
       "      <td>1</td>\n",
       "      <td>0</td>\n",
       "      <td>1</td>\n",
       "      <td>0</td>\n",
       "      <td>1</td>\n",
       "      <td>0</td>\n",
       "      <td>1</td>\n",
       "    </tr>\n",
       "    <tr>\n",
       "      <th>A4</th>\n",
       "      <td>0</td>\n",
       "      <td>0</td>\n",
       "      <td>0</td>\n",
       "      <td>1</td>\n",
       "      <td>0</td>\n",
       "      <td>0</td>\n",
       "      <td>1</td>\n",
       "    </tr>\n",
       "    <tr>\n",
       "      <th>A5</th>\n",
       "      <td>0</td>\n",
       "      <td>1</td>\n",
       "      <td>0</td>\n",
       "      <td>1</td>\n",
       "      <td>1</td>\n",
       "      <td>0</td>\n",
       "      <td>1</td>\n",
       "    </tr>\n",
       "    <tr>\n",
       "      <th>A6</th>\n",
       "      <td>0</td>\n",
       "      <td>1</td>\n",
       "      <td>0</td>\n",
       "      <td>1</td>\n",
       "      <td>1</td>\n",
       "      <td>1</td>\n",
       "      <td>1</td>\n",
       "    </tr>\n",
       "    <tr>\n",
       "      <th>A7</th>\n",
       "      <td>0</td>\n",
       "      <td>1</td>\n",
       "      <td>0</td>\n",
       "      <td>1</td>\n",
       "      <td>0</td>\n",
       "      <td>0</td>\n",
       "      <td>1</td>\n",
       "    </tr>\n",
       "  </tbody>\n",
       "</table>\n",
       "</div>"
      ],
      "text/plain": [
       "    A1  A2  A3  A4  A5  A6  A7\n",
       "A1   1   0   0   1   0   0   1\n",
       "A2   0   1   0   1   0   0   1\n",
       "A3   1   0   1   0   1   0   1\n",
       "A4   0   0   0   1   0   0   1\n",
       "A5   0   1   0   1   1   0   1\n",
       "A6   0   1   0   1   1   1   1\n",
       "A7   0   1   0   1   0   0   1"
      ]
     },
     "execution_count": 8,
     "metadata": {},
     "output_type": "execute_result"
    }
   ],
   "source": [
    "electre_binary_matrix"
   ]
  },
  {
   "cell_type": "markdown",
   "metadata": {},
   "source": [
    "# partial"
   ]
  },
  {
   "cell_type": "code",
   "execution_count": 9,
   "metadata": {},
   "outputs": [
    {
     "name": "stdout",
     "output_type": "stream",
     "text": [
      "Restricted license - for non-production use only - expires 2026-11-23\n"
     ]
    },
    {
     "name": "stderr",
     "output_type": "stream",
     "text": [
      "c:\\Users\\Jurek\\Desktop\\Doktorat\\nowe_repo\\new_methods\\crisp_partial.py:51: DeprecationWarning: Model.display() is deprecated\n",
      "  m.display()\n"
     ]
    }
   ],
   "source": [
    "new_crisp_partial = crisp_partial(electre_binary_matrix.values)"
   ]
  },
  {
   "cell_type": "code",
   "execution_count": 10,
   "metadata": {},
   "outputs": [
    {
     "data": {
      "image/svg+xml": [
       "<?xml version=\"1.0\" encoding=\"UTF-8\" standalone=\"no\"?>\n",
       "<!DOCTYPE svg PUBLIC \"-//W3C//DTD SVG 1.1//EN\"\n",
       " \"http://www.w3.org/Graphics/SVG/1.1/DTD/svg11.dtd\">\n",
       "<!-- Generated by graphviz version 8.0.5 (20230430.1635)\n",
       " -->\n",
       "<!-- Pages: 1 -->\n",
       "<svg width=\"289pt\" height=\"332pt\"\n",
       " viewBox=\"0.00 0.00 289.24 332.00\" xmlns=\"http://www.w3.org/2000/svg\" xmlns:xlink=\"http://www.w3.org/1999/xlink\">\n",
       "<g id=\"graph0\" class=\"graph\" transform=\"scale(1 1) rotate(0) translate(4 328)\">\n",
       "<polygon fill=\"white\" stroke=\"none\" points=\"-4,4 -4,-328 285.24,-328 285.24,4 -4,4\"/>\n",
       "<!-- 1 -->\n",
       "<g id=\"node1\" class=\"node\">\n",
       "<title>1</title>\n",
       "<polygon fill=\"white\" stroke=\"black\" points=\"67.29,-180 13.29,-180 13.29,-144 67.29,-144 67.29,-180\"/>\n",
       "<text text-anchor=\"middle\" x=\"40.29\" y=\"-156.95\" font-family=\"Helvetica,sans-Serif\" font-size=\"14.00\">1</text>\n",
       "</g>\n",
       "<!-- 4 -->\n",
       "<g id=\"node4\" class=\"node\">\n",
       "<title>4</title>\n",
       "<polygon fill=\"white\" stroke=\"black\" points=\"179.29,-108 125.29,-108 125.29,-72 179.29,-72 179.29,-108\"/>\n",
       "<text text-anchor=\"middle\" x=\"152.29\" y=\"-84.95\" font-family=\"Helvetica,sans-Serif\" font-size=\"14.00\">4</text>\n",
       "</g>\n",
       "<!-- 1&#45;&gt;4 -->\n",
       "<g id=\"edge1\" class=\"edge\">\n",
       "<title>1&#45;&gt;4</title>\n",
       "<path fill=\"none\" stroke=\"black\" d=\"M67.69,-143.88C83.53,-133.97 103.55,-121.46 120.14,-111.09\"/>\n",
       "<polygon fill=\"black\" stroke=\"black\" points=\"120.86,-112.08 124.17,-107.95 119,-109.11 120.86,-112.08\"/>\n",
       "</g>\n",
       "<!-- 7 -->\n",
       "<g id=\"node7\" class=\"node\">\n",
       "<title>7</title>\n",
       "<polygon fill=\"white\" stroke=\"black\" points=\"179.29,-36 125.29,-36 125.29,0 179.29,0 179.29,-36\"/>\n",
       "<text text-anchor=\"middle\" x=\"152.29\" y=\"-12.95\" font-family=\"Helvetica,sans-Serif\" font-size=\"14.00\">7</text>\n",
       "</g>\n",
       "<!-- 1&#45;&gt;7 -->\n",
       "<g id=\"edge2\" class=\"edge\">\n",
       "<title>1&#45;&gt;7</title>\n",
       "<path fill=\"none\" stroke=\"black\" d=\"M54.02,-143.59C74.45,-117.68 112.83,-69.03 135.1,-40.8\"/>\n",
       "<polygon fill=\"black\" stroke=\"black\" points=\"137.07,-42.12 138.79,-37.11 134.32,-39.95 137.07,-42.12\"/>\n",
       "</g>\n",
       "<!-- 2 -->\n",
       "<g id=\"node2\" class=\"node\">\n",
       "<title>2</title>\n",
       "<polygon fill=\"white\" stroke=\"black\" points=\"253.29,-180 199.29,-180 199.29,-144 253.29,-144 253.29,-180\"/>\n",
       "<text text-anchor=\"middle\" x=\"226.29\" y=\"-156.95\" font-family=\"Helvetica,sans-Serif\" font-size=\"14.00\">2</text>\n",
       "</g>\n",
       "<!-- 2&#45;&gt;4 -->\n",
       "<g id=\"edge3\" class=\"edge\">\n",
       "<title>2&#45;&gt;4</title>\n",
       "<path fill=\"none\" stroke=\"black\" d=\"M208,-143.7C197.94,-134.19 185.4,-122.32 174.75,-112.25\"/>\n",
       "<polygon fill=\"black\" stroke=\"black\" points=\"176.46,-111.51 171.63,-109.35 174.06,-114.05 176.46,-111.51\"/>\n",
       "</g>\n",
       "<!-- 2&#45;&gt;7 -->\n",
       "<g id=\"edge4\" class=\"edge\">\n",
       "<title>2&#45;&gt;7</title>\n",
       "<path fill=\"none\" stroke=\"black\" d=\"M220.09,-143.81C213.23,-125.54 201.42,-96.03 188.29,-72 182.47,-61.36 175.08,-50.17 168.52,-40.83\"/>\n",
       "<polygon fill=\"black\" stroke=\"black\" points=\"169.49,-40.19 165.17,-37.13 166.64,-42.22 169.49,-40.19\"/>\n",
       "</g>\n",
       "<!-- 3 -->\n",
       "<g id=\"node3\" class=\"node\">\n",
       "<title>3</title>\n",
       "<polygon fill=\"white\" stroke=\"black\" points=\"67.29,-252 13.29,-252 13.29,-216 67.29,-216 67.29,-252\"/>\n",
       "<text text-anchor=\"middle\" x=\"40.29\" y=\"-228.95\" font-family=\"Helvetica,sans-Serif\" font-size=\"14.00\">3</text>\n",
       "</g>\n",
       "<!-- 3&#45;&gt;1 -->\n",
       "<g id=\"edge5\" class=\"edge\">\n",
       "<title>3&#45;&gt;1</title>\n",
       "<path fill=\"none\" stroke=\"black\" d=\"M40.29,-215.7C40.29,-206.71 40.29,-195.61 40.29,-185.92\"/>\n",
       "<polygon fill=\"black\" stroke=\"black\" points=\"42.04,-186.1 40.29,-181.1 38.54,-186.1 42.04,-186.1\"/>\n",
       "</g>\n",
       "<!-- 3&#45;&gt;4 -->\n",
       "<g id=\"edge6\" class=\"edge\">\n",
       "<title>3&#45;&gt;4</title>\n",
       "<path fill=\"none\" stroke=\"black\" d=\"M54.02,-215.59C74.45,-189.68 112.83,-141.03 135.1,-112.8\"/>\n",
       "<polygon fill=\"black\" stroke=\"black\" points=\"137.07,-114.12 138.79,-109.11 134.32,-111.95 137.07,-114.12\"/>\n",
       "</g>\n",
       "<!-- 3&#45;&gt;7 -->\n",
       "<g id=\"edge7\" class=\"edge\">\n",
       "<title>3&#45;&gt;7</title>\n",
       "<path fill=\"none\" stroke=\"black\" d=\"M24.68,-215.77C16.91,-206.03 8.34,-193.18 4.29,-180 -0.42,-164.71 -1.94,-158.74 4.29,-144 26.3,-91.88 83.29,-54.28 119.79,-34.63\"/>\n",
       "<polygon fill=\"black\" stroke=\"black\" points=\"120.41,-35.74 124.01,-31.86 118.78,-32.65 120.41,-35.74\"/>\n",
       "</g>\n",
       "<!-- 4&#45;&gt;7 -->\n",
       "<g id=\"edge8\" class=\"edge\">\n",
       "<title>4&#45;&gt;7</title>\n",
       "<path fill=\"none\" stroke=\"black\" d=\"M146.37,-71.7C145.45,-62.71 145.29,-51.61 145.91,-41.92\"/>\n",
       "<polygon fill=\"black\" stroke=\"black\" points=\"147.72,-42.23 146.39,-37.1 144.23,-41.94 147.72,-42.23\"/>\n",
       "</g>\n",
       "<!-- 5 -->\n",
       "<g id=\"node5\" class=\"node\">\n",
       "<title>5</title>\n",
       "<polygon fill=\"white\" stroke=\"black\" points=\"234.29,-252 180.29,-252 180.29,-216 234.29,-216 234.29,-252\"/>\n",
       "<text text-anchor=\"middle\" x=\"207.29\" y=\"-228.95\" font-family=\"Helvetica,sans-Serif\" font-size=\"14.00\">5</text>\n",
       "</g>\n",
       "<!-- 5&#45;&gt;2 -->\n",
       "<g id=\"edge9\" class=\"edge\">\n",
       "<title>5&#45;&gt;2</title>\n",
       "<path fill=\"none\" stroke=\"black\" d=\"M211.98,-215.7C214.45,-206.63 217.49,-195.4 220.14,-185.65\"/>\n",
       "<polygon fill=\"black\" stroke=\"black\" points=\"222.02,-186.39 221.65,-181.1 218.65,-185.47 222.02,-186.39\"/>\n",
       "</g>\n",
       "<!-- 5&#45;&gt;4 -->\n",
       "<g id=\"edge10\" class=\"edge\">\n",
       "<title>5&#45;&gt;4</title>\n",
       "<path fill=\"none\" stroke=\"black\" d=\"M200.54,-215.59C190.59,-189.9 171.98,-141.83 161,-113.5\"/>\n",
       "<polygon fill=\"black\" stroke=\"black\" points=\"162.35,-113.14 158.92,-109.11 159.09,-114.41 162.35,-113.14\"/>\n",
       "</g>\n",
       "<!-- 5&#45;&gt;7 -->\n",
       "<g id=\"edge11\" class=\"edge\">\n",
       "<title>5&#45;&gt;7</title>\n",
       "<path fill=\"none\" stroke=\"black\" d=\"M232.96,-215.72C244.21,-206.58 256.22,-194.28 262.29,-180 268.55,-165.28 267.21,-159.22 262.29,-144 248.08,-100.06 208.77,-62.28 181.21,-40.09\"/>\n",
       "<polygon fill=\"black\" stroke=\"black\" points=\"182.56,-38.13 177.56,-36.39 180.39,-40.87 182.56,-38.13\"/>\n",
       "</g>\n",
       "<!-- 6 -->\n",
       "<g id=\"node6\" class=\"node\">\n",
       "<title>6</title>\n",
       "<polygon fill=\"white\" stroke=\"black\" points=\"261.29,-324 207.29,-324 207.29,-288 261.29,-288 261.29,-324\"/>\n",
       "<text text-anchor=\"middle\" x=\"234.29\" y=\"-300.95\" font-family=\"Helvetica,sans-Serif\" font-size=\"14.00\">6</text>\n",
       "</g>\n",
       "<!-- 6&#45;&gt;2 -->\n",
       "<g id=\"edge12\" class=\"edge\">\n",
       "<title>6&#45;&gt;2</title>\n",
       "<path fill=\"none\" stroke=\"black\" d=\"M238.68,-287.53C242.6,-269.54 247.15,-240.7 243.29,-216 241.7,-205.88 238.52,-195.05 235.33,-185.84\"/>\n",
       "<polygon fill=\"black\" stroke=\"black\" points=\"236.69,-185.45 233.35,-181.33 233.39,-186.63 236.69,-185.45\"/>\n",
       "</g>\n",
       "<!-- 6&#45;&gt;4 -->\n",
       "<g id=\"edge13\" class=\"edge\">\n",
       "<title>6&#45;&gt;4</title>\n",
       "<path fill=\"none\" stroke=\"black\" d=\"M207.05,-289.03C194.02,-279.9 179.49,-267.22 171.29,-252 147.4,-207.69 147.62,-146.7 149.92,-113.97\"/>\n",
       "<polygon fill=\"black\" stroke=\"black\" points=\"151.72,-114.32 150.37,-109.2 148.23,-114.05 151.72,-114.32\"/>\n",
       "</g>\n",
       "<!-- 6&#45;&gt;5 -->\n",
       "<g id=\"edge14\" class=\"edge\">\n",
       "<title>6&#45;&gt;5</title>\n",
       "<path fill=\"none\" stroke=\"black\" d=\"M227.61,-287.7C224.12,-278.63 219.79,-267.4 216.02,-257.65\"/>\n",
       "<polygon fill=\"black\" stroke=\"black\" points=\"217.32,-257.14 213.89,-253.1 214.05,-258.4 217.32,-257.14\"/>\n",
       "</g>\n",
       "<!-- 6&#45;&gt;7 -->\n",
       "<g id=\"edge15\" class=\"edge\">\n",
       "<title>6&#45;&gt;7</title>\n",
       "<path fill=\"none\" stroke=\"black\" d=\"M244.74,-287.74C261.2,-258.41 290.14,-196.87 278.29,-144 270.54,-109.47 268.27,-98.02 244.29,-72 227.84,-54.16 203.99,-40.65 184.69,-31.74\"/>\n",
       "<polygon fill=\"black\" stroke=\"black\" points=\"185.66,-29.81 180.38,-29.35 184.22,-33 185.66,-29.81\"/>\n",
       "</g>\n",
       "<!-- 7&#45;&gt;4 -->\n",
       "<g id=\"edge16\" class=\"edge\">\n",
       "<title>7&#45;&gt;4</title>\n",
       "<path fill=\"none\" stroke=\"black\" d=\"M158.18,-36.1C159.12,-45.06 159.29,-56.15 158.68,-65.86\"/>\n",
       "<polygon fill=\"black\" stroke=\"black\" points=\"156.87,-65.57 158.2,-70.7 160.36,-65.86 156.87,-65.57\"/>\n",
       "</g>\n",
       "</g>\n",
       "</svg>\n"
      ],
      "text/plain": [
       "<graphviz.graphs.Digraph at 0x27f62686a20>"
      ]
     },
     "metadata": {},
     "output_type": "display_data"
    }
   ],
   "source": [
    "visualize_outranking(dict_to_matrix(new_crisp_partial['solution_r']).astype(int))"
   ]
  },
  {
   "cell_type": "code",
   "execution_count": 11,
   "metadata": {},
   "outputs": [
    {
     "data": {
      "text/plain": [
       "8.0"
      ]
     },
     "execution_count": 11,
     "metadata": {},
     "output_type": "execute_result"
    }
   ],
   "source": [
    "new_crisp_partial['objective_value']"
   ]
  },
  {
   "cell_type": "code",
   "execution_count": 12,
   "metadata": {},
   "outputs": [
    {
     "data": {
      "text/plain": [
       "array([[1, 1, 0, 0, 1, 1, 0],\n",
       "       [1, 1, 1, 0, 0, 0, 0],\n",
       "       [0, 1, 1, 0, 1, 1, 0],\n",
       "       [0, 0, 0, 1, 0, 0, 0],\n",
       "       [1, 0, 1, 0, 1, 0, 0],\n",
       "       [1, 0, 1, 0, 0, 1, 0],\n",
       "       [0, 0, 0, 0, 0, 0, 1]])"
      ]
     },
     "execution_count": 12,
     "metadata": {},
     "output_type": "execute_result"
    }
   ],
   "source": [
    "dict_to_matrix(new_crisp_partial['solution_R']).astype(int)"
   ]
  },
  {
   "cell_type": "code",
   "execution_count": 13,
   "metadata": {},
   "outputs": [
    {
     "data": {
      "text/plain": [
       "array([[1, 0, 1, 0, 0, 0, 0],\n",
       "       [0, 1, 0, 0, 1, 1, 0],\n",
       "       [0, 0, 1, 0, 0, 0, 0],\n",
       "       [1, 1, 1, 1, 1, 1, 0],\n",
       "       [0, 0, 0, 0, 1, 1, 0],\n",
       "       [0, 0, 0, 0, 0, 1, 0],\n",
       "       [1, 1, 1, 0, 1, 1, 1]])"
      ]
     },
     "execution_count": 13,
     "metadata": {},
     "output_type": "execute_result"
    }
   ],
   "source": [
    "dict_to_matrix_with_prefix(new_crisp_partial['solution_P_minus']).astype(int)"
   ]
  },
  {
   "cell_type": "code",
   "execution_count": 14,
   "metadata": {},
   "outputs": [
    {
     "data": {
      "text/plain": [
       "array([[1, 0, 0, 1, 0, 0, 1],\n",
       "       [0, 1, 0, 1, 0, 0, 1],\n",
       "       [1, 0, 1, 1, 0, 0, 1],\n",
       "       [0, 0, 0, 1, 0, 0, 0],\n",
       "       [0, 1, 0, 1, 1, 0, 1],\n",
       "       [0, 1, 0, 1, 1, 1, 1],\n",
       "       [0, 0, 0, 0, 0, 0, 1]])"
      ]
     },
     "execution_count": 14,
     "metadata": {},
     "output_type": "execute_result"
    }
   ],
   "source": [
    "dict_to_matrix_with_prefix(new_crisp_partial['solution_P_plus']).astype(int)"
   ]
  },
  {
   "cell_type": "code",
   "execution_count": 15,
   "metadata": {},
   "outputs": [
    {
     "data": {
      "text/plain": [
       "array([[1, 0, 0, 0, 0, 0, 0],\n",
       "       [0, 1, 0, 0, 0, 0, 0],\n",
       "       [0, 0, 1, 0, 0, 0, 0],\n",
       "       [0, 0, 0, 1, 0, 0, 1],\n",
       "       [0, 0, 0, 0, 1, 0, 0],\n",
       "       [0, 0, 0, 0, 0, 1, 0],\n",
       "       [0, 0, 0, 1, 0, 0, 1]])"
      ]
     },
     "execution_count": 15,
     "metadata": {},
     "output_type": "execute_result"
    }
   ],
   "source": [
    "dict_to_matrix(new_crisp_partial['solution_I']).astype(int)"
   ]
  },
  {
   "cell_type": "code",
   "execution_count": 16,
   "metadata": {},
   "outputs": [
    {
     "data": {
      "text/plain": [
       "array([[1, 0, 0, 1, 0, 0, 1],\n",
       "       [0, 1, 0, 1, 0, 0, 1],\n",
       "       [1, 0, 1, 1, 0, 0, 1],\n",
       "       [0, 0, 0, 1, 0, 0, 1],\n",
       "       [0, 1, 0, 1, 1, 0, 1],\n",
       "       [0, 1, 0, 1, 1, 1, 1],\n",
       "       [0, 0, 0, 1, 0, 0, 1]])"
      ]
     },
     "execution_count": 16,
     "metadata": {},
     "output_type": "execute_result"
    }
   ],
   "source": [
    "dict_to_matrix(new_crisp_partial['solution_r']).astype(int)"
   ]
  },
  {
   "cell_type": "code",
   "execution_count": 17,
   "metadata": {},
   "outputs": [
    {
     "data": {
      "image/png": "[encoded data removed]",
      "text/plain": [
       "<Figure size 640x480 with 1 Axes>"
      ]
     },
     "metadata": {},
     "output_type": "display_data"
    }
   ],
   "source": [
    "plot_hasse(dict_to_matrix(new_crisp_partial['solution_r']).astype(int), labels)"
   ]
  },
  {
   "cell_type": "markdown",
   "metadata": {},
   "source": [
    "# complete"
   ]
  },
  {
   "cell_type": "code",
   "execution_count": 18,
   "metadata": {},
   "outputs": [
    {
     "name": "stderr",
     "output_type": "stream",
     "text": [
      "c:\\Users\\Jurek\\Desktop\\Doktorat\\nowe_repo\\new_methods\\crisp_complete.py:40: DeprecationWarning: Model.display() is deprecated\n",
      "  m.display()\n"
     ]
    }
   ],
   "source": [
    "new_crisp_complete = crisp_complete(electre_binary_matrix.values)"
   ]
  },
  {
   "cell_type": "code",
   "execution_count": 19,
   "metadata": {},
   "outputs": [
    {
     "data": {
      "image/svg+xml": [
       "<?xml version=\"1.0\" encoding=\"UTF-8\" standalone=\"no\"?>\n",
       "<!DOCTYPE svg PUBLIC \"-//W3C//DTD SVG 1.1//EN\"\n",
       " \"http://www.w3.org/Graphics/SVG/1.1/DTD/svg11.dtd\">\n",
       "<!-- Generated by graphviz version 8.0.5 (20230430.1635)\n",
       " -->\n",
       "<!-- Pages: 1 -->\n",
       "<svg width=\"232pt\" height=\"360pt\"\n",
       " viewBox=\"0.00 0.00 231.83 360.00\" xmlns=\"http://www.w3.org/2000/svg\" xmlns:xlink=\"http://www.w3.org/1999/xlink\">\n",
       "<g id=\"graph0\" class=\"graph\" transform=\"scale(0.756303 0.756303) rotate(0) translate(4 472)\">\n",
       "<polygon fill=\"white\" stroke=\"none\" points=\"-4,4 -4,-472 302.53,-472 302.53,4 -4,4\"/>\n",
       "<!-- 1 -->\n",
       "<g id=\"node1\" class=\"node\">\n",
       "<title>1</title>\n",
       "<polygon fill=\"white\" stroke=\"black\" points=\"80.53,-324 26.53,-324 26.53,-288 80.53,-288 80.53,-324\"/>\n",
       "<text text-anchor=\"middle\" x=\"53.53\" y=\"-300.95\" font-family=\"Helvetica,sans-Serif\" font-size=\"14.00\">1</text>\n",
       "</g>\n",
       "<!-- 2 -->\n",
       "<g id=\"node2\" class=\"node\">\n",
       "<title>2</title>\n",
       "<polygon fill=\"white\" stroke=\"black\" points=\"80.53,-180 26.53,-180 26.53,-144 80.53,-144 80.53,-180\"/>\n",
       "<text text-anchor=\"middle\" x=\"53.53\" y=\"-156.95\" font-family=\"Helvetica,sans-Serif\" font-size=\"14.00\">2</text>\n",
       "</g>\n",
       "<!-- 1&#45;&gt;2 -->\n",
       "<g id=\"edge1\" class=\"edge\">\n",
       "<title>1&#45;&gt;2</title>\n",
       "<path fill=\"none\" stroke=\"black\" d=\"M37.92,-287.77C30.16,-278.03 21.59,-265.18 17.53,-252 12.83,-236.71 12.83,-231.29 17.53,-216 21.02,-204.67 27.84,-193.59 34.62,-184.51\"/>\n",
       "<polygon fill=\"black\" stroke=\"black\" points=\"36.25,-186.25 37.92,-181.23 33.48,-184.12 36.25,-186.25\"/>\n",
       "</g>\n",
       "<!-- 4 -->\n",
       "<g id=\"node4\" class=\"node\">\n",
       "<title>4</title>\n",
       "<polygon fill=\"white\" stroke=\"black\" points=\"154.53,-108 100.53,-108 100.53,-72 154.53,-72 154.53,-108\"/>\n",
       "<text text-anchor=\"middle\" x=\"127.53\" y=\"-84.95\" font-family=\"Helvetica,sans-Serif\" font-size=\"14.00\">4</text>\n",
       "</g>\n",
       "<!-- 1&#45;&gt;4 -->\n",
       "<g id=\"edge2\" class=\"edge\">\n",
       "<title>1&#45;&gt;4</title>\n",
       "<path fill=\"none\" stroke=\"black\" d=\"M67.27,-287.66C74.66,-277.68 83.48,-264.64 89.53,-252 111.6,-205.91 121.35,-146.12 125.24,-113.93\"/>\n",
       "<polygon fill=\"black\" stroke=\"black\" points=\"127.07,-114.42 125.9,-109.25 123.59,-114.02 127.07,-114.42\"/>\n",
       "</g>\n",
       "<!-- 5 -->\n",
       "<g id=\"node5\" class=\"node\">\n",
       "<title>5</title>\n",
       "<polygon fill=\"white\" stroke=\"black\" points=\"80.53,-252 26.53,-252 26.53,-216 80.53,-216 80.53,-252\"/>\n",
       "<text text-anchor=\"middle\" x=\"53.53\" y=\"-228.95\" font-family=\"Helvetica,sans-Serif\" font-size=\"14.00\">5</text>\n",
       "</g>\n",
       "<!-- 1&#45;&gt;5 -->\n",
       "<g id=\"edge3\" class=\"edge\">\n",
       "<title>1&#45;&gt;5</title>\n",
       "<path fill=\"none\" stroke=\"black\" d=\"M47.62,-287.7C46.69,-278.71 46.54,-267.61 47.15,-257.92\"/>\n",
       "<polygon fill=\"black\" stroke=\"black\" points=\"48.97,-258.23 47.64,-253.1 45.48,-257.94 48.97,-258.23\"/>\n",
       "</g>\n",
       "<!-- 7 -->\n",
       "<g id=\"node7\" class=\"node\">\n",
       "<title>7</title>\n",
       "<polygon fill=\"white\" stroke=\"black\" points=\"154.53,-36 100.53,-36 100.53,0 154.53,0 154.53,-36\"/>\n",
       "<text text-anchor=\"middle\" x=\"127.53\" y=\"-12.95\" font-family=\"Helvetica,sans-Serif\" font-size=\"14.00\">7</text>\n",
       "</g>\n",
       "<!-- 1&#45;&gt;7 -->\n",
       "<g id=\"edge4\" class=\"edge\">\n",
       "<title>1&#45;&gt;7</title>\n",
       "<path fill=\"none\" stroke=\"black\" d=\"M34.06,-287.92C24.71,-278.4 14.49,-265.72 9.53,-252 -6.77,-206.85 2.44,-191.47 9.53,-144 14.48,-110.91 10.46,-97.99 31.53,-72 47.83,-51.91 73.86,-38.22 94.71,-29.79\"/>\n",
       "<polygon fill=\"black\" stroke=\"black\" points=\"95.15,-31.11 99.17,-27.66 93.87,-27.85 95.15,-31.11\"/>\n",
       "</g>\n",
       "<!-- 2&#45;&gt;4 -->\n",
       "<g id=\"edge5\" class=\"edge\">\n",
       "<title>2&#45;&gt;4</title>\n",
       "<path fill=\"none\" stroke=\"black\" d=\"M71.83,-143.7C81.88,-134.19 94.43,-122.32 105.07,-112.25\"/>\n",
       "<polygon fill=\"black\" stroke=\"black\" points=\"105.77,-114.05 108.2,-109.35 103.36,-111.51 105.77,-114.05\"/>\n",
       "</g>\n",
       "<!-- 2&#45;&gt;7 -->\n",
       "<g id=\"edge6\" class=\"edge\">\n",
       "<title>2&#45;&gt;7</title>\n",
       "<path fill=\"none\" stroke=\"black\" d=\"M59.74,-143.81C66.59,-125.54 78.4,-96.03 91.53,-72 97.35,-61.36 104.74,-50.17 111.31,-40.83\"/>\n",
       "<polygon fill=\"black\" stroke=\"black\" points=\"113.18,-42.22 114.65,-37.13 110.33,-40.19 113.18,-42.22\"/>\n",
       "</g>\n",
       "<!-- 3 -->\n",
       "<g id=\"node3\" class=\"node\">\n",
       "<title>3</title>\n",
       "<polygon fill=\"white\" stroke=\"black\" points=\"163.53,-468 109.53,-468 109.53,-432 163.53,-432 163.53,-468\"/>\n",
       "<text text-anchor=\"middle\" x=\"136.53\" y=\"-444.95\" font-family=\"Helvetica,sans-Serif\" font-size=\"14.00\">3</text>\n",
       "</g>\n",
       "<!-- 3&#45;&gt;1 -->\n",
       "<g id=\"edge7\" class=\"edge\">\n",
       "<title>3&#45;&gt;1</title>\n",
       "<path fill=\"none\" stroke=\"black\" d=\"M124.04,-431.65C116.87,-421.45 107.87,-408.2 100.53,-396 87.2,-373.82 73.57,-347.52 64.44,-329.29\"/>\n",
       "<polygon fill=\"black\" stroke=\"black\" points=\"65.79,-329.07 61.99,-325.37 62.65,-330.63 65.79,-329.07\"/>\n",
       "</g>\n",
       "<!-- 3&#45;&gt;2 -->\n",
       "<g id=\"edge8\" class=\"edge\">\n",
       "<title>3&#45;&gt;2</title>\n",
       "<path fill=\"none\" stroke=\"black\" d=\"M109.2,-441.36C86.01,-433.54 53.43,-419.21 33.53,-396 11.58,-370.39 14.94,-357.3 9.53,-324 1.84,-276.62 -6.77,-261.15 9.53,-216 13.79,-204.21 21.94,-193.18 30.08,-184.28\"/>\n",
       "<polygon fill=\"black\" stroke=\"black\" points=\"30.89,-185.91 33.06,-181.08 28.35,-183.51 30.89,-185.91\"/>\n",
       "</g>\n",
       "<!-- 3&#45;&gt;4 -->\n",
       "<g id=\"edge9\" class=\"edge\">\n",
       "<title>3&#45;&gt;4</title>\n",
       "<path fill=\"none\" stroke=\"black\" d=\"M163.75,-433.9C200.25,-411.41 260.53,-365.42 260.53,-307 260.53,-307 260.53,-307 260.53,-233 260.53,-174.33 199.3,-129.9 159.93,-107.4\"/>\n",
       "<polygon fill=\"black\" stroke=\"black\" points=\"160.99,-105.42 155.77,-104.5 159.27,-108.48 160.99,-105.42\"/>\n",
       "</g>\n",
       "<!-- 3&#45;&gt;5 -->\n",
       "<g id=\"edge10\" class=\"edge\">\n",
       "<title>3&#45;&gt;5</title>\n",
       "<path fill=\"none\" stroke=\"black\" d=\"M110.02,-431.65C80.43,-410.42 34.47,-371.4 17.53,-324 12.15,-308.93 12.83,-303.29 17.53,-288 21.02,-276.67 27.84,-265.59 34.62,-256.51\"/>\n",
       "<polygon fill=\"black\" stroke=\"black\" points=\"36.25,-258.25 37.92,-253.23 33.48,-256.12 36.25,-258.25\"/>\n",
       "</g>\n",
       "<!-- 6 -->\n",
       "<g id=\"node6\" class=\"node\">\n",
       "<title>6</title>\n",
       "<polygon fill=\"white\" stroke=\"black\" points=\"163.53,-396 109.53,-396 109.53,-360 163.53,-360 163.53,-396\"/>\n",
       "<text text-anchor=\"middle\" x=\"136.53\" y=\"-372.95\" font-family=\"Helvetica,sans-Serif\" font-size=\"14.00\">6</text>\n",
       "</g>\n",
       "<!-- 3&#45;&gt;6 -->\n",
       "<g id=\"edge11\" class=\"edge\">\n",
       "<title>3&#45;&gt;6</title>\n",
       "<path fill=\"none\" stroke=\"black\" d=\"M130.62,-431.7C129.69,-422.71 129.54,-411.61 130.15,-401.92\"/>\n",
       "<polygon fill=\"black\" stroke=\"black\" points=\"131.97,-402.23 130.64,-397.1 128.48,-401.94 131.97,-402.23\"/>\n",
       "</g>\n",
       "<!-- 3&#45;&gt;7 -->\n",
       "<g id=\"edge12\" class=\"edge\">\n",
       "<title>3&#45;&gt;7</title>\n",
       "<path fill=\"none\" stroke=\"black\" d=\"M164.01,-439.44C210.23,-421.4 298.53,-377.69 298.53,-307 298.53,-307 298.53,-307 298.53,-161 298.53,-90.03 210.28,-47.74 160.58,-29.56\"/>\n",
       "<polygon fill=\"black\" stroke=\"black\" points=\"161.3,-27.6 156.01,-27.56 160.12,-30.89 161.3,-27.6\"/>\n",
       "</g>\n",
       "<!-- 4&#45;&gt;7 -->\n",
       "<g id=\"edge13\" class=\"edge\">\n",
       "<title>4&#45;&gt;7</title>\n",
       "<path fill=\"none\" stroke=\"black\" d=\"M121.62,-71.7C120.69,-62.71 120.54,-51.61 121.15,-41.92\"/>\n",
       "<polygon fill=\"black\" stroke=\"black\" points=\"122.97,-42.23 121.64,-37.1 119.48,-41.94 122.97,-42.23\"/>\n",
       "</g>\n",
       "<!-- 5&#45;&gt;1 -->\n",
       "<g id=\"edge14\" class=\"edge\">\n",
       "<title>5&#45;&gt;1</title>\n",
       "<path fill=\"none\" stroke=\"black\" d=\"M59.43,-252.1C60.37,-261.06 60.53,-272.15 59.93,-281.86\"/>\n",
       "<polygon fill=\"black\" stroke=\"black\" points=\"58.11,-281.57 59.45,-286.7 61.6,-281.86 58.11,-281.57\"/>\n",
       "</g>\n",
       "<!-- 5&#45;&gt;2 -->\n",
       "<g id=\"edge15\" class=\"edge\">\n",
       "<title>5&#45;&gt;2</title>\n",
       "<path fill=\"none\" stroke=\"black\" d=\"M53.53,-215.7C53.53,-206.71 53.53,-195.61 53.53,-185.92\"/>\n",
       "<polygon fill=\"black\" stroke=\"black\" points=\"55.28,-186.1 53.53,-181.1 51.78,-186.1 55.28,-186.1\"/>\n",
       "</g>\n",
       "<!-- 5&#45;&gt;4 -->\n",
       "<g id=\"edge16\" class=\"edge\">\n",
       "<title>5&#45;&gt;4</title>\n",
       "<path fill=\"none\" stroke=\"black\" d=\"M66.41,-215.87C73.71,-205.74 82.71,-192.49 89.53,-180 101.43,-158.22 112.25,-131.94 119.28,-113.61\"/>\n",
       "<polygon fill=\"black\" stroke=\"black\" points=\"121.2,-114.48 121.33,-109.19 117.92,-113.24 121.2,-114.48\"/>\n",
       "</g>\n",
       "<!-- 5&#45;&gt;7 -->\n",
       "<g id=\"edge17\" class=\"edge\">\n",
       "<title>5&#45;&gt;7</title>\n",
       "<path fill=\"none\" stroke=\"black\" d=\"M37.92,-215.77C30.16,-206.03 21.59,-193.18 17.53,-180 12.83,-164.71 12.61,-159.22 17.53,-144 31.74,-100.06 71.06,-62.28 98.61,-40.09\"/>\n",
       "<polygon fill=\"black\" stroke=\"black\" points=\"99.43,-40.87 102.26,-36.39 97.26,-38.13 99.43,-40.87\"/>\n",
       "</g>\n",
       "<!-- 6&#45;&gt;1 -->\n",
       "<g id=\"edge18\" class=\"edge\">\n",
       "<title>6&#45;&gt;1</title>\n",
       "<path fill=\"none\" stroke=\"black\" d=\"M116.02,-359.7C104.64,-350.11 90.42,-338.11 78.41,-327.98\"/>\n",
       "<polygon fill=\"black\" stroke=\"black\" points=\"80.05,-326.23 75.1,-324.35 77.8,-328.91 80.05,-326.23\"/>\n",
       "</g>\n",
       "<!-- 6&#45;&gt;2 -->\n",
       "<g id=\"edge19\" class=\"edge\">\n",
       "<title>6&#45;&gt;2</title>\n",
       "<path fill=\"none\" stroke=\"black\" d=\"M133.51,-359.86C127.76,-329.66 113.62,-265.48 89.53,-216 84.31,-205.27 77.14,-194.22 70.58,-185.01\"/>\n",
       "<polygon fill=\"black\" stroke=\"black\" points=\"71.56,-184.39 67.21,-181.37 68.73,-186.45 71.56,-184.39\"/>\n",
       "</g>\n",
       "<!-- 6&#45;&gt;3 -->\n",
       "<g id=\"edge20\" class=\"edge\">\n",
       "<title>6&#45;&gt;3</title>\n",
       "<path fill=\"none\" stroke=\"black\" d=\"M142.43,-396.1C143.37,-405.06 143.53,-416.15 142.93,-425.86\"/>\n",
       "<polygon fill=\"black\" stroke=\"black\" points=\"141.11,-425.57 142.45,-430.7 144.6,-425.86 141.11,-425.57\"/>\n",
       "</g>\n",
       "<!-- 6&#45;&gt;4 -->\n",
       "<g id=\"edge21\" class=\"edge\">\n",
       "<title>6&#45;&gt;4</title>\n",
       "<path fill=\"none\" stroke=\"black\" d=\"M136.28,-359.75C135.68,-321.1 133.94,-224.66 130.53,-144 130.12,-134.18 129.53,-123.35 128.98,-114.04\"/>\n",
       "<polygon fill=\"black\" stroke=\"black\" points=\"130.68,-114.07 128.63,-109.18 127.18,-114.28 130.68,-114.07\"/>\n",
       "</g>\n",
       "<!-- 6&#45;&gt;5 -->\n",
       "<g id=\"edge22\" class=\"edge\">\n",
       "<title>6&#45;&gt;5</title>\n",
       "<path fill=\"none\" stroke=\"black\" d=\"M128.08,-359.63C119.06,-341.46 104.12,-312.26 89.53,-288 83.29,-277.61 75.83,-266.46 69.33,-257.08\"/>\n",
       "<polygon fill=\"black\" stroke=\"black\" points=\"70.33,-256.45 66.03,-253.35 67.46,-258.45 70.33,-256.45\"/>\n",
       "</g>\n",
       "<!-- 6&#45;&gt;7 -->\n",
       "<g id=\"edge23\" class=\"edge\">\n",
       "<title>6&#45;&gt;7</title>\n",
       "<path fill=\"none\" stroke=\"black\" d=\"M155.62,-359.77C180.96,-334.91 222.53,-286.3 222.53,-235 222.53,-235 222.53,-235 222.53,-161 222.53,-111.17 181.61,-65.58 153.49,-40.13\"/>\n",
       "<polygon fill=\"black\" stroke=\"black\" points=\"154.99,-39.24 150.09,-37.22 152.66,-41.85 154.99,-39.24\"/>\n",
       "</g>\n",
       "<!-- 7&#45;&gt;4 -->\n",
       "<g id=\"edge24\" class=\"edge\">\n",
       "<title>7&#45;&gt;4</title>\n",
       "<path fill=\"none\" stroke=\"black\" d=\"M133.43,-36.1C134.37,-45.06 134.53,-56.15 133.93,-65.86\"/>\n",
       "<polygon fill=\"black\" stroke=\"black\" points=\"132.11,-65.57 133.45,-70.7 135.6,-65.86 132.11,-65.57\"/>\n",
       "</g>\n",
       "</g>\n",
       "</svg>\n"
      ],
      "text/plain": [
       "<graphviz.graphs.Digraph at 0x27f644ba0f0>"
      ]
     },
     "metadata": {},
     "output_type": "display_data"
    }
   ],
   "source": [
    "visualize_outranking(dict_to_matrix(new_crisp_complete['solution_r']).astype(int))"
   ]
  },
  {
   "cell_type": "code",
   "execution_count": 20,
   "metadata": {},
   "outputs": [
    {
     "data": {
      "text/plain": [
       "18.0"
      ]
     },
     "execution_count": 20,
     "metadata": {},
     "output_type": "execute_result"
    }
   ],
   "source": [
    "new_crisp_complete['objective_value']"
   ]
  },
  {
   "cell_type": "code",
   "execution_count": 21,
   "metadata": {},
   "outputs": [
    {
     "data": {
      "text/plain": [
       "array([[1, 0, 0, 0, 1, 0, 0],\n",
       "       [0, 1, 0, 0, 0, 0, 0],\n",
       "       [0, 0, 1, 0, 0, 1, 0],\n",
       "       [0, 0, 0, 1, 0, 0, 1],\n",
       "       [1, 0, 0, 0, 1, 0, 0],\n",
       "       [0, 0, 1, 0, 0, 1, 0],\n",
       "       [0, 0, 0, 1, 0, 0, 1]])"
      ]
     },
     "execution_count": 21,
     "metadata": {},
     "output_type": "execute_result"
    }
   ],
   "source": [
    "dict_to_matrix(new_crisp_complete['solution_z']).astype(int)"
   ]
  },
  {
   "cell_type": "code",
   "execution_count": 22,
   "metadata": {},
   "outputs": [
    {
     "data": {
      "text/plain": [
       "array([[1, 1, 0, 1, 1, 0, 1],\n",
       "       [0, 1, 0, 1, 0, 0, 1],\n",
       "       [1, 1, 1, 1, 1, 1, 1],\n",
       "       [0, 0, 0, 1, 0, 0, 1],\n",
       "       [1, 1, 0, 1, 1, 0, 1],\n",
       "       [1, 1, 1, 1, 1, 1, 1],\n",
       "       [0, 0, 0, 1, 0, 0, 1]])"
      ]
     },
     "execution_count": 22,
     "metadata": {},
     "output_type": "execute_result"
    }
   ],
   "source": [
    "dict_to_matrix(new_crisp_complete['solution_r']).astype(int)"
   ]
  },
  {
   "cell_type": "code",
   "execution_count": 23,
   "metadata": {},
   "outputs": [
    {
     "data": {
      "image/png": "[encoded data removed]",
      "text/plain": [
       "<Figure size 640x480 with 1 Axes>"
      ]
     },
     "metadata": {},
     "output_type": "display_data"
    }
   ],
   "source": [
    "plot_hasse(dict_to_matrix(new_crisp_complete['solution_r']).astype(int), labels)"
   ]
  },
  {
   "cell_type": "markdown",
   "metadata": {},
   "source": [
    "# zestawienie"
   ]
  },
  {
   "cell_type": "code",
   "execution_count": 24,
   "metadata": {},
   "outputs": [
    {
     "data": {
      "text/plain": [
       "array([[1, 0, 0, 1, 0, 0, 1],\n",
       "       [0, 1, 0, 1, 0, 0, 1],\n",
       "       [1, 0, 1, 0, 1, 0, 1],\n",
       "       [0, 0, 0, 1, 0, 0, 1],\n",
       "       [0, 1, 0, 1, 1, 0, 1],\n",
       "       [0, 1, 0, 1, 1, 1, 1],\n",
       "       [0, 1, 0, 1, 0, 0, 1]])"
      ]
     },
     "execution_count": 24,
     "metadata": {},
     "output_type": "execute_result"
    }
   ],
   "source": [
    "electre_binary_matrix.values"
   ]
  },
  {
   "cell_type": "markdown",
   "metadata": {},
   "source": [
    "# partial"
   ]
  },
  {
   "cell_type": "code",
   "execution_count": 25,
   "metadata": {},
   "outputs": [],
   "source": [
    "import pandas as pd"
   ]
  },
  {
   "cell_type": "code",
   "execution_count": 26,
   "metadata": {},
   "outputs": [
    {
     "data": {
      "text/html": [
       "<div>\n",
       "<style scoped>\n",
       "    .dataframe tbody tr th:only-of-type {\n",
       "        vertical-align: middle;\n",
       "    }\n",
       "\n",
       "    .dataframe tbody tr th {\n",
       "        vertical-align: top;\n",
       "    }\n",
       "\n",
       "    .dataframe thead th {\n",
       "        text-align: right;\n",
       "    }\n",
       "</style>\n",
       "<table border=\"1\" class=\"dataframe\">\n",
       "  <thead>\n",
       "    <tr style=\"text-align: right;\">\n",
       "      <th></th>\n",
       "      <th>A1</th>\n",
       "      <th>A2</th>\n",
       "      <th>A3</th>\n",
       "      <th>A4</th>\n",
       "      <th>A5</th>\n",
       "      <th>A6</th>\n",
       "      <th>A7</th>\n",
       "    </tr>\n",
       "  </thead>\n",
       "  <tbody>\n",
       "    <tr>\n",
       "      <th>A1</th>\n",
       "      <td>1</td>\n",
       "      <td>0</td>\n",
       "      <td>0</td>\n",
       "      <td>1</td>\n",
       "      <td>0</td>\n",
       "      <td>0</td>\n",
       "      <td>1</td>\n",
       "    </tr>\n",
       "    <tr>\n",
       "      <th>A2</th>\n",
       "      <td>0</td>\n",
       "      <td>1</td>\n",
       "      <td>0</td>\n",
       "      <td>1</td>\n",
       "      <td>0</td>\n",
       "      <td>0</td>\n",
       "      <td>1</td>\n",
       "    </tr>\n",
       "    <tr>\n",
       "      <th>A3</th>\n",
       "      <td>1</td>\n",
       "      <td>0</td>\n",
       "      <td>1</td>\n",
       "      <td>0</td>\n",
       "      <td>0</td>\n",
       "      <td>0</td>\n",
       "      <td>1</td>\n",
       "    </tr>\n",
       "    <tr>\n",
       "      <th>A4</th>\n",
       "      <td>0</td>\n",
       "      <td>0</td>\n",
       "      <td>0</td>\n",
       "      <td>1</td>\n",
       "      <td>0</td>\n",
       "      <td>0</td>\n",
       "      <td>0</td>\n",
       "    </tr>\n",
       "    <tr>\n",
       "      <th>A5</th>\n",
       "      <td>0</td>\n",
       "      <td>1</td>\n",
       "      <td>0</td>\n",
       "      <td>1</td>\n",
       "      <td>1</td>\n",
       "      <td>0</td>\n",
       "      <td>1</td>\n",
       "    </tr>\n",
       "    <tr>\n",
       "      <th>A6</th>\n",
       "      <td>0</td>\n",
       "      <td>1</td>\n",
       "      <td>0</td>\n",
       "      <td>1</td>\n",
       "      <td>1</td>\n",
       "      <td>1</td>\n",
       "      <td>1</td>\n",
       "    </tr>\n",
       "    <tr>\n",
       "      <th>A7</th>\n",
       "      <td>0</td>\n",
       "      <td>0</td>\n",
       "      <td>0</td>\n",
       "      <td>0</td>\n",
       "      <td>0</td>\n",
       "      <td>0</td>\n",
       "      <td>1</td>\n",
       "    </tr>\n",
       "  </tbody>\n",
       "</table>\n",
       "</div>"
      ],
      "text/plain": [
       "    A1  A2  A3  A4  A5  A6  A7\n",
       "A1   1   0   0   1   0   0   1\n",
       "A2   0   1   0   1   0   0   1\n",
       "A3   1   0   1   0   0   0   1\n",
       "A4   0   0   0   1   0   0   0\n",
       "A5   0   1   0   1   1   0   1\n",
       "A6   0   1   0   1   1   1   1\n",
       "A7   0   0   0   0   0   0   1"
      ]
     },
     "execution_count": 26,
     "metadata": {},
     "output_type": "execute_result"
    }
   ],
   "source": [
    "p_plus = pd.DataFrame(np.multiply(electre_binary_matrix, dict_to_matrix_with_prefix(new_crisp_partial['solution_P_plus']).astype(int)));p_plus"
   ]
  },
  {
   "cell_type": "code",
   "execution_count": 27,
   "metadata": {},
   "outputs": [
    {
     "data": {
      "text/html": [
       "<div>\n",
       "<style scoped>\n",
       "    .dataframe tbody tr th:only-of-type {\n",
       "        vertical-align: middle;\n",
       "    }\n",
       "\n",
       "    .dataframe tbody tr th {\n",
       "        vertical-align: top;\n",
       "    }\n",
       "\n",
       "    .dataframe thead th {\n",
       "        text-align: right;\n",
       "    }\n",
       "</style>\n",
       "<table border=\"1\" class=\"dataframe\">\n",
       "  <thead>\n",
       "    <tr style=\"text-align: right;\">\n",
       "      <th></th>\n",
       "      <th>A1</th>\n",
       "      <th>A2</th>\n",
       "      <th>A3</th>\n",
       "      <th>A4</th>\n",
       "      <th>A5</th>\n",
       "      <th>A6</th>\n",
       "      <th>A7</th>\n",
       "    </tr>\n",
       "  </thead>\n",
       "  <tbody>\n",
       "    <tr>\n",
       "      <th>A1</th>\n",
       "      <td>1</td>\n",
       "      <td>0</td>\n",
       "      <td>0</td>\n",
       "      <td>0</td>\n",
       "      <td>0</td>\n",
       "      <td>0</td>\n",
       "      <td>0</td>\n",
       "    </tr>\n",
       "    <tr>\n",
       "      <th>A2</th>\n",
       "      <td>0</td>\n",
       "      <td>1</td>\n",
       "      <td>0</td>\n",
       "      <td>0</td>\n",
       "      <td>0</td>\n",
       "      <td>0</td>\n",
       "      <td>0</td>\n",
       "    </tr>\n",
       "    <tr>\n",
       "      <th>A3</th>\n",
       "      <td>0</td>\n",
       "      <td>0</td>\n",
       "      <td>1</td>\n",
       "      <td>0</td>\n",
       "      <td>0</td>\n",
       "      <td>0</td>\n",
       "      <td>0</td>\n",
       "    </tr>\n",
       "    <tr>\n",
       "      <th>A4</th>\n",
       "      <td>0</td>\n",
       "      <td>0</td>\n",
       "      <td>0</td>\n",
       "      <td>1</td>\n",
       "      <td>0</td>\n",
       "      <td>0</td>\n",
       "      <td>0</td>\n",
       "    </tr>\n",
       "    <tr>\n",
       "      <th>A5</th>\n",
       "      <td>0</td>\n",
       "      <td>0</td>\n",
       "      <td>0</td>\n",
       "      <td>0</td>\n",
       "      <td>1</td>\n",
       "      <td>0</td>\n",
       "      <td>0</td>\n",
       "    </tr>\n",
       "    <tr>\n",
       "      <th>A6</th>\n",
       "      <td>0</td>\n",
       "      <td>0</td>\n",
       "      <td>0</td>\n",
       "      <td>0</td>\n",
       "      <td>0</td>\n",
       "      <td>1</td>\n",
       "      <td>0</td>\n",
       "    </tr>\n",
       "    <tr>\n",
       "      <th>A7</th>\n",
       "      <td>0</td>\n",
       "      <td>1</td>\n",
       "      <td>0</td>\n",
       "      <td>0</td>\n",
       "      <td>0</td>\n",
       "      <td>0</td>\n",
       "      <td>1</td>\n",
       "    </tr>\n",
       "  </tbody>\n",
       "</table>\n",
       "</div>"
      ],
      "text/plain": [
       "    A1  A2  A3  A4  A5  A6  A7\n",
       "A1   1   0   0   0   0   0   0\n",
       "A2   0   1   0   0   0   0   0\n",
       "A3   0   0   1   0   0   0   0\n",
       "A4   0   0   0   1   0   0   0\n",
       "A5   0   0   0   0   1   0   0\n",
       "A6   0   0   0   0   0   1   0\n",
       "A7   0   1   0   0   0   0   1"
      ]
     },
     "execution_count": 27,
     "metadata": {},
     "output_type": "execute_result"
    }
   ],
   "source": [
    "#P-\n",
    "p_minus = pd.DataFrame(np.multiply(electre_binary_matrix, dict_to_matrix_with_prefix(new_crisp_partial['solution_P_minus']).astype(int)));p_minus"
   ]
  },
  {
   "cell_type": "code",
   "execution_count": 28,
   "metadata": {},
   "outputs": [
    {
     "data": {
      "text/html": [
       "<div>\n",
       "<style scoped>\n",
       "    .dataframe tbody tr th:only-of-type {\n",
       "        vertical-align: middle;\n",
       "    }\n",
       "\n",
       "    .dataframe tbody tr th {\n",
       "        vertical-align: top;\n",
       "    }\n",
       "\n",
       "    .dataframe thead th {\n",
       "        text-align: right;\n",
       "    }\n",
       "</style>\n",
       "<table border=\"1\" class=\"dataframe\">\n",
       "  <thead>\n",
       "    <tr style=\"text-align: right;\">\n",
       "      <th></th>\n",
       "      <th>A1</th>\n",
       "      <th>A2</th>\n",
       "      <th>A3</th>\n",
       "      <th>A4</th>\n",
       "      <th>A5</th>\n",
       "      <th>A6</th>\n",
       "      <th>A7</th>\n",
       "    </tr>\n",
       "  </thead>\n",
       "  <tbody>\n",
       "    <tr>\n",
       "      <th>A1</th>\n",
       "      <td>1</td>\n",
       "      <td>0</td>\n",
       "      <td>0</td>\n",
       "      <td>0</td>\n",
       "      <td>0</td>\n",
       "      <td>0</td>\n",
       "      <td>0</td>\n",
       "    </tr>\n",
       "    <tr>\n",
       "      <th>A2</th>\n",
       "      <td>0</td>\n",
       "      <td>1</td>\n",
       "      <td>0</td>\n",
       "      <td>0</td>\n",
       "      <td>0</td>\n",
       "      <td>0</td>\n",
       "      <td>0</td>\n",
       "    </tr>\n",
       "    <tr>\n",
       "      <th>A3</th>\n",
       "      <td>0</td>\n",
       "      <td>0</td>\n",
       "      <td>1</td>\n",
       "      <td>0</td>\n",
       "      <td>0</td>\n",
       "      <td>0</td>\n",
       "      <td>0</td>\n",
       "    </tr>\n",
       "    <tr>\n",
       "      <th>A4</th>\n",
       "      <td>0</td>\n",
       "      <td>0</td>\n",
       "      <td>0</td>\n",
       "      <td>1</td>\n",
       "      <td>0</td>\n",
       "      <td>0</td>\n",
       "      <td>1</td>\n",
       "    </tr>\n",
       "    <tr>\n",
       "      <th>A5</th>\n",
       "      <td>0</td>\n",
       "      <td>0</td>\n",
       "      <td>0</td>\n",
       "      <td>0</td>\n",
       "      <td>1</td>\n",
       "      <td>0</td>\n",
       "      <td>0</td>\n",
       "    </tr>\n",
       "    <tr>\n",
       "      <th>A6</th>\n",
       "      <td>0</td>\n",
       "      <td>0</td>\n",
       "      <td>0</td>\n",
       "      <td>0</td>\n",
       "      <td>0</td>\n",
       "      <td>1</td>\n",
       "      <td>0</td>\n",
       "    </tr>\n",
       "    <tr>\n",
       "      <th>A7</th>\n",
       "      <td>0</td>\n",
       "      <td>0</td>\n",
       "      <td>0</td>\n",
       "      <td>1</td>\n",
       "      <td>0</td>\n",
       "      <td>0</td>\n",
       "      <td>1</td>\n",
       "    </tr>\n",
       "  </tbody>\n",
       "</table>\n",
       "</div>"
      ],
      "text/plain": [
       "    A1  A2  A3  A4  A5  A6  A7\n",
       "A1   1   0   0   0   0   0   0\n",
       "A2   0   1   0   0   0   0   0\n",
       "A3   0   0   1   0   0   0   0\n",
       "A4   0   0   0   1   0   0   1\n",
       "A5   0   0   0   0   1   0   0\n",
       "A6   0   0   0   0   0   1   0\n",
       "A7   0   0   0   1   0   0   1"
      ]
     },
     "execution_count": 28,
     "metadata": {},
     "output_type": "execute_result"
    }
   ],
   "source": [
    "#I\n",
    "indiff = pd.DataFrame(np.multiply(electre_binary_matrix, dict_to_matrix(new_crisp_partial['solution_I']).astype(int)));indiff"
   ]
  },
  {
   "cell_type": "code",
   "execution_count": 29,
   "metadata": {},
   "outputs": [
    {
     "data": {
      "text/html": [
       "<div>\n",
       "<style scoped>\n",
       "    .dataframe tbody tr th:only-of-type {\n",
       "        vertical-align: middle;\n",
       "    }\n",
       "\n",
       "    .dataframe tbody tr th {\n",
       "        vertical-align: top;\n",
       "    }\n",
       "\n",
       "    .dataframe thead th {\n",
       "        text-align: right;\n",
       "    }\n",
       "</style>\n",
       "<table border=\"1\" class=\"dataframe\">\n",
       "  <thead>\n",
       "    <tr style=\"text-align: right;\">\n",
       "      <th></th>\n",
       "      <th>A1</th>\n",
       "      <th>A2</th>\n",
       "      <th>A3</th>\n",
       "      <th>A4</th>\n",
       "      <th>A5</th>\n",
       "      <th>A6</th>\n",
       "      <th>A7</th>\n",
       "    </tr>\n",
       "  </thead>\n",
       "  <tbody>\n",
       "    <tr>\n",
       "      <th>A1</th>\n",
       "      <td>1</td>\n",
       "      <td>0</td>\n",
       "      <td>0</td>\n",
       "      <td>0</td>\n",
       "      <td>0</td>\n",
       "      <td>0</td>\n",
       "      <td>0</td>\n",
       "    </tr>\n",
       "    <tr>\n",
       "      <th>A2</th>\n",
       "      <td>0</td>\n",
       "      <td>1</td>\n",
       "      <td>0</td>\n",
       "      <td>0</td>\n",
       "      <td>0</td>\n",
       "      <td>0</td>\n",
       "      <td>0</td>\n",
       "    </tr>\n",
       "    <tr>\n",
       "      <th>A3</th>\n",
       "      <td>0</td>\n",
       "      <td>0</td>\n",
       "      <td>1</td>\n",
       "      <td>0</td>\n",
       "      <td>1</td>\n",
       "      <td>0</td>\n",
       "      <td>0</td>\n",
       "    </tr>\n",
       "    <tr>\n",
       "      <th>A4</th>\n",
       "      <td>0</td>\n",
       "      <td>0</td>\n",
       "      <td>0</td>\n",
       "      <td>1</td>\n",
       "      <td>0</td>\n",
       "      <td>0</td>\n",
       "      <td>0</td>\n",
       "    </tr>\n",
       "    <tr>\n",
       "      <th>A5</th>\n",
       "      <td>0</td>\n",
       "      <td>0</td>\n",
       "      <td>0</td>\n",
       "      <td>0</td>\n",
       "      <td>1</td>\n",
       "      <td>0</td>\n",
       "      <td>0</td>\n",
       "    </tr>\n",
       "    <tr>\n",
       "      <th>A6</th>\n",
       "      <td>0</td>\n",
       "      <td>0</td>\n",
       "      <td>0</td>\n",
       "      <td>0</td>\n",
       "      <td>0</td>\n",
       "      <td>1</td>\n",
       "      <td>0</td>\n",
       "    </tr>\n",
       "    <tr>\n",
       "      <th>A7</th>\n",
       "      <td>0</td>\n",
       "      <td>0</td>\n",
       "      <td>0</td>\n",
       "      <td>0</td>\n",
       "      <td>0</td>\n",
       "      <td>0</td>\n",
       "      <td>1</td>\n",
       "    </tr>\n",
       "  </tbody>\n",
       "</table>\n",
       "</div>"
      ],
      "text/plain": [
       "    A1  A2  A3  A4  A5  A6  A7\n",
       "A1   1   0   0   0   0   0   0\n",
       "A2   0   1   0   0   0   0   0\n",
       "A3   0   0   1   0   1   0   0\n",
       "A4   0   0   0   1   0   0   0\n",
       "A5   0   0   0   0   1   0   0\n",
       "A6   0   0   0   0   0   1   0\n",
       "A7   0   0   0   0   0   0   1"
      ]
     },
     "execution_count": 29,
     "metadata": {},
     "output_type": "execute_result"
    }
   ],
   "source": [
    "#R\n",
    "incomp = pd.DataFrame(np.multiply(electre_binary_matrix, dict_to_matrix(new_crisp_partial['solution_R']).astype(int)));incomp"
   ]
  },
  {
   "cell_type": "code",
   "execution_count": 30,
   "metadata": {},
   "outputs": [],
   "source": [
    "def calculate_objective_cost(matrix_a: np.ndarray, matrix_b: np.ndarray, return_changes=False):\n",
    "    # Sprawdzenie zgodności wymiarów\n",
    "    if matrix_a.shape != matrix_b.shape:\n",
    "        raise ValueError(\"Macierze muszą mieć takie same wymiary.\")\n",
    "\n",
    "    # Klasyfikacja relacji\n",
    "    def classify_relation(a, b):\n",
    "        if a == 1 and b == 0:\n",
    "            return 'P+'\n",
    "        elif a == 0 and b == 1:\n",
    "            return 'P-'\n",
    "        elif a == 1 and b == 1:\n",
    "            return 'I'\n",
    "        elif a == 0 and b == 0:\n",
    "            return 'R'\n",
    "    \n",
    "    # Macierz kosztów\n",
    "    cost_matrix = {\n",
    "        ('P+', 'P+'): 0, ('P+', 'P-'): 4, ('P+', 'I'): 2, ('P+', 'R'): 3,\n",
    "        ('P-', 'P+'): 4, ('P-', 'P-'): 0, ('P-', 'I'): 2, ('P-', 'R'): 3,\n",
    "        ('I',  'P+'): 2, ('I',  'P-'): 2, ('I',  'I'): 0, ('I',  'R'): 2,\n",
    "        ('R',  'P+'): 3, ('R',  'P-'): 3, ('R',  'I'): 2, ('R',  'R'): 0,\n",
    "    }\n",
    "\n",
    "    total_cost = 0\n",
    "    changes = []\n",
    "\n",
    "    for i in range(matrix_a.shape[0]):\n",
    "        for j in range(i, matrix_a.shape[1]):\n",
    "            if i != j:\n",
    "                rel_a = classify_relation(matrix_a[i, j], matrix_a[j, i])\n",
    "                rel_b = classify_relation(matrix_b[i, j], matrix_b[j, i])\n",
    "                cost = cost_matrix[(rel_a, rel_b)]\n",
    "                if rel_a != rel_b:\n",
    "                    changes.append(((i, j), rel_a, rel_b, cost))\n",
    "                total_cost += cost\n",
    "\n",
    "    if return_changes:\n",
    "        return total_cost, changes\n",
    "    return total_cost"
   ]
  },
  {
   "cell_type": "code",
   "execution_count": null,
   "metadata": {},
   "outputs": [],
   "source": []
  },
  {
   "cell_type": "code",
   "execution_count": 31,
   "metadata": {},
   "outputs": [
    {
     "data": {
      "text/plain": [
       "array([[1, 0, 0, 1, 0, 0, 1],\n",
       "       [0, 1, 0, 1, 0, 0, 1],\n",
       "       [1, 0, 1, 0, 1, 0, 1],\n",
       "       [0, 0, 0, 1, 0, 0, 1],\n",
       "       [0, 1, 0, 1, 1, 0, 1],\n",
       "       [0, 1, 0, 1, 1, 1, 1],\n",
       "       [0, 1, 0, 1, 0, 0, 1]])"
      ]
     },
     "execution_count": 31,
     "metadata": {},
     "output_type": "execute_result"
    }
   ],
   "source": [
    "electre_binary_matrix.values"
   ]
  },
  {
   "cell_type": "code",
   "execution_count": 32,
   "metadata": {},
   "outputs": [
    {
     "data": {
      "text/plain": [
       "array([[1., 0., 0., 1., 0., 0., 1.],\n",
       "       [0., 1., 0., 1., 0., 0., 1.],\n",
       "       [1., 0., 1., 1., 0., 0., 1.],\n",
       "       [0., 0., 0., 1., 0., 0., 1.],\n",
       "       [0., 1., 0., 1., 1., 0., 1.],\n",
       "       [0., 1., 0., 1., 1., 1., 1.],\n",
       "       [0., 0., 0., 1., 0., 0., 1.]])"
      ]
     },
     "execution_count": 32,
     "metadata": {},
     "output_type": "execute_result"
    }
   ],
   "source": [
    "dict_to_matrix(new_crisp_partial['solution_r'])"
   ]
  },
  {
   "cell_type": "code",
   "execution_count": 33,
   "metadata": {},
   "outputs": [
    {
     "data": {
      "text/plain": [
       "array([[ 0.,  0.,  0.,  0.,  0.,  0.,  0.],\n",
       "       [ 0.,  0.,  0.,  0.,  0.,  0.,  0.],\n",
       "       [ 0.,  0.,  0., -1.,  1.,  0.,  0.],\n",
       "       [ 0.,  0.,  0.,  0.,  0.,  0.,  0.],\n",
       "       [ 0.,  0.,  0.,  0.,  0.,  0.,  0.],\n",
       "       [ 0.,  0.,  0.,  0.,  0.,  0.,  0.],\n",
       "       [ 0.,  1.,  0.,  0.,  0.,  0.,  0.]])"
      ]
     },
     "execution_count": 33,
     "metadata": {},
     "output_type": "execute_result"
    }
   ],
   "source": [
    "electre_binary_matrix.values - dict_to_matrix(new_crisp_partial['solution_r'])"
   ]
  },
  {
   "cell_type": "code",
   "execution_count": 34,
   "metadata": {},
   "outputs": [
    {
     "data": {
      "text/plain": [
       "(8, [((1, 6), 'P+', 'I', 2), ((2, 3), 'P+', 'R', 3), ((2, 4), 'R', 'P+', 3)])"
      ]
     },
     "execution_count": 34,
     "metadata": {},
     "output_type": "execute_result"
    }
   ],
   "source": [
    "calculate_objective_cost(dict_to_matrix(new_crisp_partial['solution_r']), electre_binary_matrix.values, True)"
   ]
  },
  {
   "cell_type": "markdown",
   "metadata": {},
   "source": [
    "# complete "
   ]
  },
  {
   "cell_type": "code",
   "execution_count": 35,
   "metadata": {},
   "outputs": [
    {
     "data": {
      "text/html": [
       "<div>\n",
       "<style scoped>\n",
       "    .dataframe tbody tr th:only-of-type {\n",
       "        vertical-align: middle;\n",
       "    }\n",
       "\n",
       "    .dataframe tbody tr th {\n",
       "        vertical-align: top;\n",
       "    }\n",
       "\n",
       "    .dataframe thead th {\n",
       "        text-align: right;\n",
       "    }\n",
       "</style>\n",
       "<table border=\"1\" class=\"dataframe\">\n",
       "  <thead>\n",
       "    <tr style=\"text-align: right;\">\n",
       "      <th></th>\n",
       "      <th>A1</th>\n",
       "      <th>A2</th>\n",
       "      <th>A3</th>\n",
       "      <th>A4</th>\n",
       "      <th>A5</th>\n",
       "      <th>A6</th>\n",
       "      <th>A7</th>\n",
       "    </tr>\n",
       "  </thead>\n",
       "  <tbody>\n",
       "    <tr>\n",
       "      <th>A1</th>\n",
       "      <td>1</td>\n",
       "      <td>0</td>\n",
       "      <td>0</td>\n",
       "      <td>1</td>\n",
       "      <td>0</td>\n",
       "      <td>0</td>\n",
       "      <td>1</td>\n",
       "    </tr>\n",
       "    <tr>\n",
       "      <th>A2</th>\n",
       "      <td>0</td>\n",
       "      <td>1</td>\n",
       "      <td>0</td>\n",
       "      <td>1</td>\n",
       "      <td>0</td>\n",
       "      <td>0</td>\n",
       "      <td>1</td>\n",
       "    </tr>\n",
       "    <tr>\n",
       "      <th>A3</th>\n",
       "      <td>1</td>\n",
       "      <td>0</td>\n",
       "      <td>1</td>\n",
       "      <td>0</td>\n",
       "      <td>1</td>\n",
       "      <td>0</td>\n",
       "      <td>1</td>\n",
       "    </tr>\n",
       "    <tr>\n",
       "      <th>A4</th>\n",
       "      <td>0</td>\n",
       "      <td>0</td>\n",
       "      <td>0</td>\n",
       "      <td>1</td>\n",
       "      <td>0</td>\n",
       "      <td>0</td>\n",
       "      <td>1</td>\n",
       "    </tr>\n",
       "    <tr>\n",
       "      <th>A5</th>\n",
       "      <td>0</td>\n",
       "      <td>1</td>\n",
       "      <td>0</td>\n",
       "      <td>1</td>\n",
       "      <td>1</td>\n",
       "      <td>0</td>\n",
       "      <td>1</td>\n",
       "    </tr>\n",
       "    <tr>\n",
       "      <th>A6</th>\n",
       "      <td>0</td>\n",
       "      <td>1</td>\n",
       "      <td>0</td>\n",
       "      <td>1</td>\n",
       "      <td>1</td>\n",
       "      <td>1</td>\n",
       "      <td>1</td>\n",
       "    </tr>\n",
       "    <tr>\n",
       "      <th>A7</th>\n",
       "      <td>0</td>\n",
       "      <td>0</td>\n",
       "      <td>0</td>\n",
       "      <td>1</td>\n",
       "      <td>0</td>\n",
       "      <td>0</td>\n",
       "      <td>1</td>\n",
       "    </tr>\n",
       "  </tbody>\n",
       "</table>\n",
       "</div>"
      ],
      "text/plain": [
       "    A1  A2  A3  A4  A5  A6  A7\n",
       "A1   1   0   0   1   0   0   1\n",
       "A2   0   1   0   1   0   0   1\n",
       "A3   1   0   1   0   1   0   1\n",
       "A4   0   0   0   1   0   0   1\n",
       "A5   0   1   0   1   1   0   1\n",
       "A6   0   1   0   1   1   1   1\n",
       "A7   0   0   0   1   0   0   1"
      ]
     },
     "execution_count": 35,
     "metadata": {},
     "output_type": "execute_result"
    }
   ],
   "source": [
    "pref = pd.DataFrame(np.multiply(electre_binary_matrix, dict_to_matrix(new_crisp_complete['solution_r']).astype(int)));pref"
   ]
  },
  {
   "cell_type": "code",
   "execution_count": 36,
   "metadata": {},
   "outputs": [
    {
     "data": {
      "text/html": [
       "<div>\n",
       "<style scoped>\n",
       "    .dataframe tbody tr th:only-of-type {\n",
       "        vertical-align: middle;\n",
       "    }\n",
       "\n",
       "    .dataframe tbody tr th {\n",
       "        vertical-align: top;\n",
       "    }\n",
       "\n",
       "    .dataframe thead th {\n",
       "        text-align: right;\n",
       "    }\n",
       "</style>\n",
       "<table border=\"1\" class=\"dataframe\">\n",
       "  <thead>\n",
       "    <tr style=\"text-align: right;\">\n",
       "      <th></th>\n",
       "      <th>A1</th>\n",
       "      <th>A2</th>\n",
       "      <th>A3</th>\n",
       "      <th>A4</th>\n",
       "      <th>A5</th>\n",
       "      <th>A6</th>\n",
       "      <th>A7</th>\n",
       "    </tr>\n",
       "  </thead>\n",
       "  <tbody>\n",
       "    <tr>\n",
       "      <th>A1</th>\n",
       "      <td>1</td>\n",
       "      <td>0</td>\n",
       "      <td>0</td>\n",
       "      <td>0</td>\n",
       "      <td>0</td>\n",
       "      <td>0</td>\n",
       "      <td>0</td>\n",
       "    </tr>\n",
       "    <tr>\n",
       "      <th>A2</th>\n",
       "      <td>0</td>\n",
       "      <td>1</td>\n",
       "      <td>0</td>\n",
       "      <td>0</td>\n",
       "      <td>0</td>\n",
       "      <td>0</td>\n",
       "      <td>0</td>\n",
       "    </tr>\n",
       "    <tr>\n",
       "      <th>A3</th>\n",
       "      <td>0</td>\n",
       "      <td>0</td>\n",
       "      <td>1</td>\n",
       "      <td>0</td>\n",
       "      <td>0</td>\n",
       "      <td>0</td>\n",
       "      <td>0</td>\n",
       "    </tr>\n",
       "    <tr>\n",
       "      <th>A4</th>\n",
       "      <td>0</td>\n",
       "      <td>0</td>\n",
       "      <td>0</td>\n",
       "      <td>1</td>\n",
       "      <td>0</td>\n",
       "      <td>0</td>\n",
       "      <td>1</td>\n",
       "    </tr>\n",
       "    <tr>\n",
       "      <th>A5</th>\n",
       "      <td>0</td>\n",
       "      <td>0</td>\n",
       "      <td>0</td>\n",
       "      <td>0</td>\n",
       "      <td>1</td>\n",
       "      <td>0</td>\n",
       "      <td>0</td>\n",
       "    </tr>\n",
       "    <tr>\n",
       "      <th>A6</th>\n",
       "      <td>0</td>\n",
       "      <td>0</td>\n",
       "      <td>0</td>\n",
       "      <td>0</td>\n",
       "      <td>0</td>\n",
       "      <td>1</td>\n",
       "      <td>0</td>\n",
       "    </tr>\n",
       "    <tr>\n",
       "      <th>A7</th>\n",
       "      <td>0</td>\n",
       "      <td>0</td>\n",
       "      <td>0</td>\n",
       "      <td>1</td>\n",
       "      <td>0</td>\n",
       "      <td>0</td>\n",
       "      <td>1</td>\n",
       "    </tr>\n",
       "  </tbody>\n",
       "</table>\n",
       "</div>"
      ],
      "text/plain": [
       "    A1  A2  A3  A4  A5  A6  A7\n",
       "A1   1   0   0   0   0   0   0\n",
       "A2   0   1   0   0   0   0   0\n",
       "A3   0   0   1   0   0   0   0\n",
       "A4   0   0   0   1   0   0   1\n",
       "A5   0   0   0   0   1   0   0\n",
       "A6   0   0   0   0   0   1   0\n",
       "A7   0   0   0   1   0   0   1"
      ]
     },
     "execution_count": 36,
     "metadata": {},
     "output_type": "execute_result"
    }
   ],
   "source": [
    "indiff = pd.DataFrame(np.multiply(electre_binary_matrix, dict_to_matrix(new_crisp_complete['solution_z']).astype(int)));indiff"
   ]
  },
  {
   "cell_type": "code",
   "execution_count": 37,
   "metadata": {},
   "outputs": [
    {
     "data": {
      "text/plain": [
       "array([[ 0., -1.,  0.,  0., -1.,  0.,  0.],\n",
       "       [ 0.,  0.,  0.,  0.,  0.,  0.,  0.],\n",
       "       [ 0., -1.,  0., -1.,  0., -1.,  0.],\n",
       "       [ 0.,  0.,  0.,  0.,  0.,  0.,  0.],\n",
       "       [-1.,  0.,  0.,  0.,  0.,  0.,  0.],\n",
       "       [-1.,  0., -1.,  0.,  0.,  0.,  0.],\n",
       "       [ 0.,  1.,  0.,  0.,  0.,  0.,  0.]])"
      ]
     },
     "execution_count": 37,
     "metadata": {},
     "output_type": "execute_result"
    }
   ],
   "source": [
    "electre_binary_matrix.values - dict_to_matrix(new_crisp_complete['solution_r'])"
   ]
  },
  {
   "cell_type": "code",
   "execution_count": 38,
   "metadata": {},
   "outputs": [
    {
     "data": {
      "text/plain": [
       "(18,\n",
       " [((0, 1), 'P+', 'R', 3),\n",
       "  ((0, 4), 'I', 'R', 2),\n",
       "  ((0, 5), 'P-', 'R', 3),\n",
       "  ((1, 2), 'P-', 'R', 3),\n",
       "  ((1, 6), 'P+', 'I', 2),\n",
       "  ((2, 3), 'P+', 'R', 3),\n",
       "  ((2, 5), 'I', 'R', 2)])"
      ]
     },
     "execution_count": 38,
     "metadata": {},
     "output_type": "execute_result"
    }
   ],
   "source": [
    "calculate_objective_cost(dict_to_matrix(new_crisp_complete['solution_r']), electre_binary_matrix.values, True)"
   ]
  }
 ],
 "metadata": {
  "kernelspec": {
   "display_name": "gurobi",
   "language": "python",
   "name": "python3"
  },
  "language_info": {
   "codemirror_mode": {
    "name": "ipython",
    "version": 3
   },
   "file_extension": ".py",
   "mimetype": "text/x-python",
   "name": "python",
   "nbconvert_exporter": "python",
   "pygments_lexer": "ipython3",
   "version": "3.12.7"
  }
 },
 "nbformat": 4,
 "nbformat_minor": 4
}
