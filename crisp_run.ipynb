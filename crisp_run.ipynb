{
 "cells": [
  {
   "cell_type": "code",
   "execution_count": 1,
   "metadata": {},
   "outputs": [],
   "source": [
    "import pandas as pd\n",
    "import os\n",
    "from pathlib import Path\n",
    "from gurobipy import Model, GRB\n",
    "import json"
   ]
  },
  {
   "cell_type": "code",
   "execution_count": 2,
   "metadata": {},
   "outputs": [],
   "source": [
    "from new_methods.crisp_complete import crisp_complete\n",
    "from new_methods.electre_complete import electre_complete\n",
    "from new_methods.electre_partial import electre_partial\n",
    "from new_methods.crisp_partial import crisp_partial \n",
    "from new_methods.promethee_complete import promethee_complete \n",
    "from new_methods.promethee_partial import promethee_partial "
   ]
  },
  {
   "cell_type": "code",
   "execution_count": 3,
   "metadata": {},
   "outputs": [],
   "source": [
    "def process_files(input_directory, output_directory):\n",
    "    for subdir, dirs, files in os.walk(input_directory):\n",
    "        for file in files:\n",
    "            if file.endswith(\".json\"):\n",
    "                # Czytanie danych z pliku\n",
    "                file_path = os.path.join(subdir, file)\n",
    "                with open(file_path, 'r') as f:\n",
    "                    data = json.load(f)\n",
    "                \n",
    "                # Przetwarzanie danych\n",
    "                electre_binary_matrix = data['electre_binary_matrix']\n",
    "                electre_matrix = data['electre_matrix']\n",
    "                promethee_matrix = data['promethee_matrix']\n",
    "\n",
    "                electre_binary_complete_results = crisp_complete(electre_binary_matrix)\n",
    "                electre_binary_partial_results = crisp_partial(electre_binary_matrix)\n",
    "                electre_complete_results = electre_complete(electre_matrix)\n",
    "                electrey_partial_results = electre_partial(electre_matrix)\n",
    "                promethee_complete_results = promethee_complete(promethee_matrix)\n",
    "                promethee_partial_results = promethee_partial(promethee_matrix)\n",
    "\n",
    "                results ={}\n",
    "                results['electre_binary_complete_results'] = electre_binary_complete_results\n",
    "                results['electre_binary_partial_results'] = electre_binary_partial_results\n",
    "                results['electre_complete_results'] = electre_complete_results\n",
    "                results['electrey_partial_results'] = electrey_partial_results\n",
    "                results['promethee_complete_results'] = promethee_complete_results\n",
    "                results['promethee_partial_results'] = promethee_partial_results\n",
    "\n",
    "                # Tworzenie ścieżki wyjściowej, zachowując strukturę katalogów\n",
    "                output_subdir = subdir.replace(input_directory, output_directory)\n",
    "                if not os.path.exists(output_subdir):\n",
    "                    os.makedirs(output_subdir)\n",
    "                \n",
    "                # Zapisywanie przetworzonych danych do nowego pliku\n",
    "                result_file_path = os.path.join(output_subdir, f\"result_{file}\")\n",
    "                with open(result_file_path, 'w') as f:\n",
    "                    json.dump(results, f, indent=4)"
   ]
  },
  {
   "cell_type": "code",
   "execution_count": 4,
   "metadata": {},
   "outputs": [
    {
     "name": "stdout",
     "output_type": "stream",
     "text": [
      "Restricted license - for non-production use only - expires 2026-11-23\n"
     ]
    },
    {
     "ename": "GurobiError",
     "evalue": "Model too large for size-limited license; visit https://gurobi.com/unrestricted for more information",
     "output_type": "error",
     "traceback": [
      "\u001b[1;31m---------------------------------------------------------------------------\u001b[0m",
      "\u001b[1;31mGurobiError\u001b[0m                               Traceback (most recent call last)",
      "Cell \u001b[1;32mIn[4], line 1\u001b[0m\n\u001b[1;32m----> 1\u001b[0m process_files(\u001b[38;5;124m'\u001b[39m\u001b[38;5;124mrankings_and_matrix\u001b[39m\u001b[38;5;124m'\u001b[39m, \u001b[38;5;124m'\u001b[39m\u001b[38;5;124mcrisp_results\u001b[39m\u001b[38;5;124m'\u001b[39m)\n",
      "Cell \u001b[1;32mIn[3], line 15\u001b[0m, in \u001b[0;36mprocess_files\u001b[1;34m(input_directory, output_directory)\u001b[0m\n\u001b[0;32m     12\u001b[0m electre_matrix \u001b[38;5;241m=\u001b[39m data[\u001b[38;5;124m'\u001b[39m\u001b[38;5;124melectre_matrix\u001b[39m\u001b[38;5;124m'\u001b[39m]\n\u001b[0;32m     13\u001b[0m promethee_matrix \u001b[38;5;241m=\u001b[39m data[\u001b[38;5;124m'\u001b[39m\u001b[38;5;124mpromethee_matrix\u001b[39m\u001b[38;5;124m'\u001b[39m]\n\u001b[1;32m---> 15\u001b[0m electre_binary_complete_results \u001b[38;5;241m=\u001b[39m crisp_complete(electre_binary_matrix)\n\u001b[0;32m     16\u001b[0m electre_binary_partial_results \u001b[38;5;241m=\u001b[39m crisp_partial(electre_binary_matrix)\n\u001b[0;32m     17\u001b[0m electre_complete_results \u001b[38;5;241m=\u001b[39m electre_complete(electre_matrix)\n",
      "File \u001b[1;32mc:\\Users\\Jurek\\Desktop\\Doktorat\\Doktorat\\new_methods\\crisp_complete.py:38\u001b[0m, in \u001b[0;36mcrisp_complete\u001b[1;34m(credibility)\u001b[0m\n\u001b[0;32m     29\u001b[0m             FN \u001b[38;5;241m+\u001b[39m\u001b[38;5;241m=\u001b[39m (\n\u001b[0;32m     30\u001b[0m                 r[i, k] \u001b[38;5;241m*\u001b[39m RELATION_SCORES[get_relation(credibility[i][k], credibility[k][i])][\u001b[38;5;124m'\u001b[39m\u001b[38;5;124mPP\u001b[39m\u001b[38;5;124m'\u001b[39m] \u001b[38;5;241m+\u001b[39m\n\u001b[0;32m     31\u001b[0m                 r[k, i] \u001b[38;5;241m*\u001b[39m RELATION_SCORES[get_relation(credibility[i][k], credibility[k][i])][\u001b[38;5;124m'\u001b[39m\u001b[38;5;124mNP\u001b[39m\u001b[38;5;124m'\u001b[39m] \u001b[38;5;241m+\u001b[39m \n\u001b[1;32m   (...)\u001b[0m\n\u001b[0;32m     34\u001b[0m                            RELATION_SCORES[get_relation(credibility[i][k], credibility[k][i])][\u001b[38;5;124m'\u001b[39m\u001b[38;5;124mNP\u001b[39m\u001b[38;5;124m'\u001b[39m])\n\u001b[0;32m     35\u001b[0m             )\n\u001b[0;32m     37\u001b[0m m\u001b[38;5;241m.\u001b[39msetObjective(FN, GRB\u001b[38;5;241m.\u001b[39mMINIMIZE)\n\u001b[1;32m---> 38\u001b[0m m\u001b[38;5;241m.\u001b[39moptimize()\n\u001b[0;32m     40\u001b[0m results \u001b[38;5;241m=\u001b[39m {\n\u001b[0;32m     41\u001b[0m     \u001b[38;5;124m\"\u001b[39m\u001b[38;5;124mstatus\u001b[39m\u001b[38;5;124m\"\u001b[39m: m\u001b[38;5;241m.\u001b[39mStatus,\n\u001b[0;32m     42\u001b[0m     \u001b[38;5;124m\"\u001b[39m\u001b[38;5;124mobjective_value\u001b[39m\u001b[38;5;124m\"\u001b[39m: m\u001b[38;5;241m.\u001b[39mObjVal \u001b[38;5;28;01mif\u001b[39;00m m\u001b[38;5;241m.\u001b[39mStatus \u001b[38;5;241m==\u001b[39m GRB\u001b[38;5;241m.\u001b[39mOPTIMAL \u001b[38;5;28;01melse\u001b[39;00m \u001b[38;5;28;01mNone\u001b[39;00m,\n\u001b[1;32m   (...)\u001b[0m\n\u001b[0;32m     48\u001b[0m     \u001b[38;5;124m\"\u001b[39m\u001b[38;5;124msolution_z\u001b[39m\u001b[38;5;124m\"\u001b[39m: {\u001b[38;5;124mf\u001b[39m\u001b[38;5;124m\"\u001b[39m\u001b[38;5;124mz_\u001b[39m\u001b[38;5;132;01m{\u001b[39;00mi\u001b[38;5;132;01m}\u001b[39;00m\u001b[38;5;124m_\u001b[39m\u001b[38;5;132;01m{\u001b[39;00mj\u001b[38;5;132;01m}\u001b[39;00m\u001b[38;5;124m\"\u001b[39m: z[i, j]\u001b[38;5;241m.\u001b[39mX \u001b[38;5;28;01mfor\u001b[39;00m i \u001b[38;5;129;01min\u001b[39;00m \u001b[38;5;28mrange\u001b[39m(n) \u001b[38;5;28;01mfor\u001b[39;00m j \u001b[38;5;129;01min\u001b[39;00m \u001b[38;5;28mrange\u001b[39m(n)} \u001b[38;5;28;01mif\u001b[39;00m m\u001b[38;5;241m.\u001b[39mStatus \u001b[38;5;241m==\u001b[39m GRB\u001b[38;5;241m.\u001b[39mOPTIMAL \u001b[38;5;28;01melse\u001b[39;00m \u001b[38;5;28;01mNone\u001b[39;00m\n\u001b[0;32m     49\u001b[0m }\n\u001b[0;32m     51\u001b[0m \u001b[38;5;28;01mreturn\u001b[39;00m results\n",
      "File \u001b[1;32msrc\\\\gurobipy\\\\_model.pyx:901\u001b[0m, in \u001b[0;36mgurobipy._model.Model.optimize\u001b[1;34m()\u001b[0m\n",
      "\u001b[1;31mGurobiError\u001b[0m: Model too large for size-limited license; visit https://gurobi.com/unrestricted for more information"
     ]
    }
   ],
   "source": [
    "process_files('rankings_and_matrix', 'crisp_results')"
   ]
  }
 ],
 "metadata": {
  "kernelspec": {
   "display_name": "gurobi",
   "language": "python",
   "name": "python3"
  },
  "language_info": {
   "codemirror_mode": {
    "name": "ipython",
    "version": 3
   },
   "file_extension": ".py",
   "mimetype": "text/x-python",
   "name": "python",
   "nbconvert_exporter": "python",
   "pygments_lexer": "ipython3",
   "version": "3.12.7"
  }
 },
 "nbformat": 4,
 "nbformat_minor": 2
}
