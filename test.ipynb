{
 "cells": [
  {
   "cell_type": "code",
   "execution_count": 1,
   "metadata": {},
   "outputs": [
    {
     "data": {
      "text/plain": [
       "[[0.0,\n",
       "  0.0,\n",
       "  0.0021486544219887385,\n",
       "  0.1370116689240653,\n",
       "  0.0,\n",
       "  0.0050158051091101,\n",
       "  0.004428512162521687,\n",
       "  0.2113771736104686,\n",
       "  0.191643848551793,\n",
       "  0.14043026724969404,\n",
       "  0.0,\n",
       "  0.0],\n",
       " [0.6917527807327443,\n",
       "  0.0,\n",
       "  0.6358889127026911,\n",
       "  0.8660573985669329,\n",
       "  0.17589160185829839,\n",
       "  0.0050158051091101,\n",
       "  0.7495631920447174,\n",
       "  0.9415679801700367,\n",
       "  0.3641110872973089,\n",
       "  0.369126892406419,\n",
       "  0.0,\n",
       "  0.0010520557474284458],\n",
       " [0.3473396591338125,\n",
       "  0.0,\n",
       "  0.0,\n",
       "  0.3641110872973089,\n",
       "  0.3641110872973089,\n",
       "  0.0,\n",
       "  0.3641110872973089,\n",
       "  0.3641110872973089,\n",
       "  0.3641110872973089,\n",
       "  0.3641110872973089,\n",
       "  0.0,\n",
       "  0.0],\n",
       " [0.0, 0.0, 0.0, 0.0, 0.0, 0.0, 0.0, 0.0, 0.0, 0.0, 0.0, 0.0],\n",
       " [0.6338005490720071,\n",
       "  0.0,\n",
       "  0.6358889127026911,\n",
       "  0.6557317203366017,\n",
       "  0.0,\n",
       "  0.0050158051091101,\n",
       "  0.6358889127026911,\n",
       "  0.7272383524849144,\n",
       "  0.17560461747468273,\n",
       "  0.025418338530558974,\n",
       "  0.001461802686369851,\n",
       "  0.0041479992650155385],\n",
       " [0.6612838205082762,\n",
       "  0.2471473880917416,\n",
       "  0.630873107593581,\n",
       "  0.9949841948908899,\n",
       "  0.14542264163383029,\n",
       "  0.0,\n",
       "  0.7140784267111392,\n",
       "  0.9949841948908899,\n",
       "  0.7600786265900918,\n",
       "  0.3641110872973089,\n",
       "  0.1490844617703027,\n",
       "  0.0],\n",
       " [0.0,\n",
       "  0.0,\n",
       "  0.0,\n",
       "  0.08206013015018257,\n",
       "  0.0,\n",
       "  0.0,\n",
       "  0.0,\n",
       "  0.15356676229849542,\n",
       "  0.13884924234892992,\n",
       "  0.08261985593772087,\n",
       "  0.0,\n",
       "  0.0],\n",
       " [0.0, 0.0, 0.0, 0.0, 0.0, 0.0, 0.0, 0.0, 0.0, 0.0, 0.0, 0.0],\n",
       " [0.630873107593581,\n",
       "  0.0,\n",
       "  0.6358889127026911,\n",
       "  0.3531261600685826,\n",
       "  0.0,\n",
       "  0.0050158051091101,\n",
       "  0.6358889127026911,\n",
       "  0.4286367416716866,\n",
       "  0.0,\n",
       "  0.0050158051091101,\n",
       "  0.0,\n",
       "  0.0005297000892633427],\n",
       " [0.630873107593581,\n",
       "  0.0,\n",
       "  0.630873107593581,\n",
       "  0.630873107593581,\n",
       "  0.0,\n",
       "  0.0,\n",
       "  0.630873107593581,\n",
       "  0.630873107593581,\n",
       "  0.0,\n",
       "  0.0,\n",
       "  0.0,\n",
       "  0.0],\n",
       " [0.6786857814549799,\n",
       "  0.0,\n",
       "  0.634487400807626,\n",
       "  0.9627270911423376,\n",
       "  0.16282460258053405,\n",
       "  0.0050158051091101,\n",
       "  0.7364961927669531,\n",
       "  1.0,\n",
       "  0.3641110872973089,\n",
       "  0.369126892406419,\n",
       "  0.0,\n",
       "  0.0],\n",
       " [0.9391884144533378,\n",
       "  0.0,\n",
       "  0.6318012042289803,\n",
       "  0.9959205696753202,\n",
       "  0.3641110872973089,\n",
       "  0.0050158051091101,\n",
       "  0.995190975032133,\n",
       "  0.9989596879650066,\n",
       "  0.3641110872973089,\n",
       "  0.36792518779094574,\n",
       "  0.0,\n",
       "  0.0]]"
      ]
     },
     "execution_count": 1,
     "metadata": {},
     "output_type": "execute_result"
    }
   ],
   "source": [
    "[[0.0, 0.0, 0.0021486544219887385, 0.1370116689240653, 0.0, 0.0050158051091101, 0.004428512162521687, 0.2113771736104686, 0.191643848551793, 0.14043026724969404, 0.0, 0.0], \n",
    " [0.6917527807327443, 0.0, 0.6358889127026911, 0.8660573985669329, 0.17589160185829839, 0.0050158051091101, 0.7495631920447174, 0.9415679801700367, 0.3641110872973089, 0.369126892406419, 0.0, 0.0010520557474284458], \n",
    " [0.3473396591338125, 0.0, 0.0, 0.3641110872973089, 0.3641110872973089, 0.0, 0.3641110872973089, 0.3641110872973089, 0.3641110872973089, 0.3641110872973089, 0.0, 0.0], \n",
    " [0.0, 0.0, 0.0, 0.0, 0.0, 0.0, 0.0, 0.0, 0.0, 0.0, 0.0, 0.0], \n",
    " [0.6338005490720071, 0.0, 0.6358889127026911, 0.6557317203366017, 0.0, 0.0050158051091101, 0.6358889127026911, 0.7272383524849144, 0.17560461747468273, 0.025418338530558974, 0.001461802686369851, 0.0041479992650155385], \n",
    " [0.6612838205082762, 0.2471473880917416, 0.630873107593581, 0.9949841948908899, 0.14542264163383029, 0.0, 0.7140784267111392, 0.9949841948908899, 0.7600786265900918, 0.3641110872973089, 0.1490844617703027, 0.0], \n",
    " [0.0, 0.0, 0.0, 0.08206013015018257, 0.0, 0.0, 0.0, 0.15356676229849542, 0.13884924234892992, 0.08261985593772087, 0.0, 0.0], \n",
    " [0.0, 0.0, 0.0, 0.0, 0.0, 0.0, 0.0, 0.0, 0.0, 0.0, 0.0, 0.0], \n",
    " [0.630873107593581, 0.0, 0.6358889127026911, 0.3531261600685826, 0.0, 0.0050158051091101, 0.6358889127026911, 0.4286367416716866, 0.0, 0.0050158051091101, 0.0, 0.0005297000892633427], \n",
    " [0.630873107593581, 0.0, 0.630873107593581, 0.630873107593581, 0.0, 0.0, 0.630873107593581, 0.630873107593581, 0.0, 0.0, 0.0, 0.0], \n",
    " [0.6786857814549799, 0.0, 0.634487400807626, 0.9627270911423376, 0.16282460258053405, 0.0050158051091101, 0.7364961927669531, 1.0, 0.3641110872973089, 0.369126892406419, 0.0, 0.0], \n",
    " [0.9391884144533378, 0.0, 0.6318012042289803, 0.9959205696753202, 0.3641110872973089, 0.0050158051091101, 0.995190975032133, 0.9989596879650066, 0.3641110872973089, 0.36792518779094574, 0.0, 0.0]]"
   ]
  },
  {
   "cell_type": "code",
   "execution_count": 2,
   "metadata": {},
   "outputs": [],
   "source": [
    "import numpy as np\n",
    "import pandas as pd\n",
    "import os\n",
    "import random\n",
    "\n",
    "from mcda.outranking.electre import Electre3\n",
    "from mcda.outranking.promethee import Promethee2, Promethee1\n",
    "from mcda.functions import UShapeFunction, VShapeFunction, LevelFunction, GaussianFunction\n",
    "from mcda import *\n",
    "from mcda.matrices import *\n",
    "from mcda.relations import *\n",
    "from mcda.scales import *\n",
    "from mcda.values import CommensurableValues"
   ]
  },
  {
   "cell_type": "code",
   "execution_count": 3,
   "metadata": {},
   "outputs": [],
   "source": [
    "from helper_functions import dict_to_matrix, dict_to_matrix_with_prefix, net_flow_score, net_flow_score_pos_neg, create_preference_matrix, outranking_ranking, resolve_matrix_preferences, visualize_outranking\n",
    "import json"
   ]
  },
  {
   "cell_type": "code",
   "execution_count": 4,
   "metadata": {},
   "outputs": [],
   "source": [
    "data = pd.read_csv('./data/criteria_3/alternatives_12/level_high/cutoff_0.5/data_95.csv')"
   ]
  },
  {
   "cell_type": "code",
   "execution_count": 5,
   "metadata": {},
   "outputs": [],
   "source": [
    "file_path = './data/criteria_3/alternatives_12/level_high/cutoff_0.5/data_95.csv'\n",
    "weights_file = file_path.replace(\".csv\", \"_weights.csv\")\n",
    "\n",
    "data = pd.read_csv(file_path)\n",
    "\n",
    "weights_data = pd.read_csv(weights_file)\n",
    "\n",
    "performances = data.values\n",
    "weights = weights_data[\"Weight\"].values\n",
    "alt_len = len(performances)\n",
    "crit_len = len(weights)\n",
    "\n",
    "optimization = weights_data[\"Optimization\"].values.tolist()\n",
    "#lambda_value = weights_data[\"Lambda\"][0]  # Lambda is the same for all criteria\n",
    "q_vals = weights_data[\"Q\"].values\n",
    "p_vals = weights_data[\"P\"].values\n",
    "v_vals = weights_data[\"V\"].values\n",
    "cutoff = weights_data[\"cutoff\"][0]\n",
    "\n",
    "# Get directory structure\n",
    "\n",
    "scales = {}\n",
    "preference_func_list = {}\n",
    "W = {}\n",
    "I = {}\n",
    "P = {}\n",
    "V = {}\n",
    "for i in range(crit_len):\n",
    "    scales[i] = QuantitativeScale(0, 1, preference_direction= ( MAX if optimization[i] == 'max' else MIN))\n",
    "    W[i] = weights[i]\n",
    "    I[i] = q_vals[i]\n",
    "    P[i] = p_vals[i]\n",
    "    V[i] = v_vals[i]\n",
    "    preference_func_list[i] = VShapeFunction(p=p_vals[i], q=q_vals[i])\n",
    "\n",
    "dataset = PerformanceTable(performances, \n",
    "                            alternatives=[str(i) for i in range(alt_len)],\n",
    "                            scales=scales)\n",
    "\n",
    "promethee1 = Promethee1(dataset, W, preference_func_list)\n",
    "promethee2 = Promethee2(dataset, W, preference_func_list)\n",
    "electre3 = Electre3(performance_table=dataset, \n",
    "                    criteria_weights=W, \n",
    "                    indifference_thresholds=I, \n",
    "                    preference_thresholds=P, \n",
    "                    veto_thresholds=V)\n",
    "\n",
    "promethee_matrix = promethee1.preferences(promethee1.partial_preferences()).data\n",
    "electre_matrix = electre3.construct().data\n",
    "electre_binary_matrix = (electre_matrix >= cutoff).astype(int)\n",
    "\n",
    "promethee1_rank = promethee1.rank().outranking_matrix.data.values\n",
    "promethee2_rank = PreferenceStructure().from_ranking(promethee2.rank()).outranking_matrix.data.values\n",
    "electre3_rank_nfs =  (electre_binary_matrix.values)\n",
    "electre3_rank_nfs_pos_neg = create_preference_matrix(net_flow_score_pos_neg(electre_binary_matrix.values))\n",
    "\n",
    "descending_distillate = electre3.distillation(\n",
    "    electre3.credibility(),\n",
    ")\n",
    "ascending_distillate = electre3.distillation(\n",
    "    electre3.credibility(),\n",
    "    ascending=True\n",
    ")       \n",
    "\n",
    "# Electre 3 median ranking\n",
    "electre3_median_rank = resolve_matrix_preferences(electre3.rank().data.values,outranking_ranking(descending_distillate.data.values), outranking_ranking(ascending_distillate.data.values))\n",
    "\n",
    "electre3_final_ranking = electre3.rank().data.values\n",
    "\n",
    "\n",
    "results = {}\n",
    "results['promethee_matrix'] = promethee_matrix.values.tolist()\n",
    "results['electre_matrix'] = electre_matrix.values.tolist()\n",
    "results['electre_binary_matrix'] = electre_binary_matrix.values.tolist()\n",
    "results['promethee1_rank'] = promethee1_rank.tolist()\n",
    "results['promethee2_rank'] = promethee2_rank.tolist()\n",
    "results['electre3_rank_nfs'] = electre3_rank_nfs.tolist()\n",
    "results['electre3_rank_nfs_pos_neg'] = electre3_rank_nfs_pos_neg.tolist()\n",
    "results['electre3_median_rank'] = electre3_median_rank.tolist()\n",
    "results['electre3_final_ranking'] = electre3_final_ranking.tolist()"
   ]
  },
  {
   "cell_type": "code",
   "execution_count": 6,
   "metadata": {},
   "outputs": [],
   "source": [
    "from hassediagram import plot_hasse\n",
    "labels = [\"A1\", \"A2\", \"A3\", \"A4\", \"A5\", \"A6\", \"A7\", \"A8\", \"A9\", \"A10\", \"A11\", \"A12\"]"
   ]
  },
  {
   "cell_type": "code",
   "execution_count": null,
   "metadata": {},
   "outputs": [],
   "source": []
  },
  {
   "cell_type": "code",
   "execution_count": 7,
   "metadata": {},
   "outputs": [
    {
     "data": {
      "text/plain": [
       "array([[1, 0, 0, 0, 0, 1, 0, 0, 1, 1, 0, 0],\n",
       "       [1, 1, 0, 0, 1, 1, 1, 0, 1, 1, 1, 1],\n",
       "       [1, 1, 1, 0, 1, 1, 1, 0, 1, 1, 1, 1],\n",
       "       [1, 1, 1, 1, 1, 1, 1, 1, 1, 1, 1, 1],\n",
       "       [1, 0, 0, 0, 1, 1, 0, 0, 1, 1, 0, 0],\n",
       "       [0, 0, 0, 0, 0, 1, 0, 0, 0, 1, 0, 0],\n",
       "       [1, 0, 0, 0, 1, 1, 1, 0, 1, 1, 1, 1],\n",
       "       [1, 1, 1, 0, 1, 1, 1, 1, 1, 1, 1, 1],\n",
       "       [0, 0, 0, 0, 0, 1, 0, 0, 1, 1, 0, 0],\n",
       "       [0, 0, 0, 0, 0, 0, 0, 0, 0, 1, 0, 0],\n",
       "       [1, 0, 0, 0, 1, 1, 0, 0, 1, 1, 1, 0],\n",
       "       [1, 0, 0, 0, 1, 1, 0, 0, 1, 1, 1, 1]])"
      ]
     },
     "execution_count": 7,
     "metadata": {},
     "output_type": "execute_result"
    }
   ],
   "source": [
    "promethee2_rank"
   ]
  },
  {
   "cell_type": "code",
   "execution_count": 8,
   "metadata": {},
   "outputs": [
    {
     "data": {
      "text/plain": [
       "array([0, 0, 0, 0, 0, 0, 0, 0, 0, 0, 0, 0])"
      ]
     },
     "execution_count": 8,
     "metadata": {},
     "output_type": "execute_result"
    }
   ],
   "source": [
    "indifference_num = np.sum(np.logical_and(promethee2_rank.T, promethee2_rank), axis=0) - np.diag(promethee2_rank)\n",
    "indifference_num"
   ]
  },
  {
   "cell_type": "code",
   "execution_count": 9,
   "metadata": {},
   "outputs": [
    {
     "data": {
      "text/plain": [
       "array([ 8,  3,  2,  0,  7, 10,  4,  1,  9, 11,  6,  5])"
      ]
     },
     "execution_count": 9,
     "metadata": {},
     "output_type": "execute_result"
    }
   ],
   "source": [
    "weak = np.sum(promethee2_rank, axis=0) - np.diag(promethee2_rank);weak"
   ]
  },
  {
   "cell_type": "code",
   "execution_count": 10,
   "metadata": {},
   "outputs": [
    {
     "data": {
      "text/plain": [
       "array([ 8,  3,  2,  0,  7, 10,  4,  1,  9, 11,  6,  5])"
      ]
     },
     "execution_count": 10,
     "metadata": {},
     "output_type": "execute_result"
    }
   ],
   "source": [
    "outranked_variants_1 = weak - indifference_num;outranked_variants_1"
   ]
  },
  {
   "cell_type": "code",
   "execution_count": 19,
   "metadata": {},
   "outputs": [],
   "source": [
    "res_prom= dict_to_matrix(new_promethee_partial['solution_r']).astype(int)"
   ]
  },
  {
   "cell_type": "code",
   "execution_count": 20,
   "metadata": {},
   "outputs": [
    {
     "data": {
      "text/plain": [
       "array([4, 6, 4, 4, 6, 6, 4, 4, 6, 6, 6, 6])"
      ]
     },
     "execution_count": 20,
     "metadata": {},
     "output_type": "execute_result"
    }
   ],
   "source": [
    "indifference_num = np.sum(np.logical_and(res_prom.T, res_prom), axis=0) - np.diag(res_prom)\n",
    "indifference_num"
   ]
  },
  {
   "cell_type": "code",
   "execution_count": 21,
   "metadata": {},
   "outputs": [
    {
     "data": {
      "text/plain": [
       "array([1, 1, 1, 1, 1, 1, 1, 1, 1, 1, 1, 1])"
      ]
     },
     "execution_count": 21,
     "metadata": {},
     "output_type": "execute_result"
    }
   ],
   "source": [
    "np.diag(res_prom)"
   ]
  },
  {
   "cell_type": "code",
   "execution_count": 22,
   "metadata": {},
   "outputs": [
    {
     "data": {
      "text/plain": [
       "array([11,  6, 11, 11,  6,  6, 11, 11,  6,  6,  6,  6])"
      ]
     },
     "execution_count": 22,
     "metadata": {},
     "output_type": "execute_result"
    }
   ],
   "source": [
    "weak = np.sum(res_prom, axis=0) - np.diag(res_prom);weak"
   ]
  },
  {
   "cell_type": "code",
   "execution_count": 23,
   "metadata": {},
   "outputs": [
    {
     "data": {
      "text/plain": [
       "array([7, 0, 7, 7, 0, 0, 7, 7, 0, 0, 0, 0])"
      ]
     },
     "execution_count": 23,
     "metadata": {},
     "output_type": "execute_result"
    }
   ],
   "source": [
    "outranked_variants_2 = weak - indifference_num;outranked_variants_2"
   ]
  },
  {
   "cell_type": "code",
   "execution_count": 24,
   "metadata": {},
   "outputs": [
    {
     "data": {
      "text/plain": [
       "array([ 1,  3,  5,  7,  7, 10,  3,  6,  9, 11,  6,  5])"
      ]
     },
     "execution_count": 24,
     "metadata": {},
     "output_type": "execute_result"
    }
   ],
   "source": [
    "rank_diff = np.abs(outranked_variants_1 - outranked_variants_2);rank_diff"
   ]
  },
  {
   "cell_type": "code",
   "execution_count": 27,
   "metadata": {},
   "outputs": [],
   "source": [
    "def __max_rank_diff(size: int):\n",
    "        if size % 2 == 0:\n",
    "            return (size // 2) * size\n",
    "        else:\n",
    "            return -(size // -2) * (size - 1)"
   ]
  },
  {
   "cell_type": "code",
   "execution_count": 28,
   "metadata": {},
   "outputs": [
    {
     "data": {
      "text/plain": [
       "72"
      ]
     },
     "execution_count": 28,
     "metadata": {},
     "output_type": "execute_result"
    }
   ],
   "source": [
    "__max_rank_diff(12)"
   ]
  },
  {
   "cell_type": "code",
   "execution_count": 29,
   "metadata": {},
   "outputs": [],
   "source": [
    "#plot_hasse(promethee2_rank, labels)"
   ]
  },
  {
   "cell_type": "code",
   "execution_count": 30,
   "metadata": {},
   "outputs": [],
   "source": [
    "from new_methods.promethee_complete import promethee_complete\n",
    "from new_methods.promethee_partial import promethee_partial"
   ]
  },
  {
   "cell_type": "code",
   "execution_count": 31,
   "metadata": {},
   "outputs": [
    {
     "name": "stderr",
     "output_type": "stream",
     "text": [
      "c:\\Users\\Jurek\\Desktop\\Doktorat\\nowe_repo\\new_methods\\promethee_partial.py:62: DeprecationWarning: Model.display() is deprecated\n",
      "  m.display()\n",
      "c:\\Users\\Jurek\\Desktop\\Doktorat\\nowe_repo\\new_methods\\promethee_complete.py:46: DeprecationWarning: Model.display() is deprecated\n",
      "  m.display()\n"
     ]
    }
   ],
   "source": [
    "new_promethee_partial = promethee_partial(promethee_matrix.values)\n",
    "new_promethee_complete = promethee_complete(promethee_matrix.values)"
   ]
  },
  {
   "cell_type": "code",
   "execution_count": 32,
   "metadata": {},
   "outputs": [],
   "source": [
    "from metrics import rank_difference_measure"
   ]
  },
  {
   "cell_type": "code",
   "execution_count": 33,
   "metadata": {},
   "outputs": [
    {
     "data": {
      "text/plain": [
       "array([[1, 0, 1, 1, 0, 0, 1, 1, 0, 0, 0, 0],\n",
       "       [1, 1, 1, 1, 1, 1, 1, 1, 1, 1, 1, 1],\n",
       "       [1, 0, 1, 1, 0, 0, 1, 1, 0, 0, 0, 0],\n",
       "       [1, 0, 1, 1, 0, 0, 1, 1, 0, 0, 0, 0],\n",
       "       [1, 1, 1, 1, 1, 1, 1, 1, 1, 1, 1, 1],\n",
       "       [1, 1, 1, 1, 1, 1, 1, 1, 1, 1, 1, 1],\n",
       "       [1, 0, 1, 1, 0, 0, 1, 1, 0, 0, 0, 0],\n",
       "       [1, 0, 1, 1, 0, 0, 1, 1, 0, 0, 0, 0],\n",
       "       [1, 1, 1, 1, 1, 1, 1, 1, 1, 1, 1, 1],\n",
       "       [1, 1, 1, 1, 1, 1, 1, 1, 1, 1, 1, 1],\n",
       "       [1, 1, 1, 1, 1, 1, 1, 1, 1, 1, 1, 1],\n",
       "       [1, 1, 1, 1, 1, 1, 1, 1, 1, 1, 1, 1]])"
      ]
     },
     "execution_count": 33,
     "metadata": {},
     "output_type": "execute_result"
    }
   ],
   "source": [
    "dict_to_matrix(new_promethee_partial['solution_r']).astype(int)"
   ]
  },
  {
   "cell_type": "code",
   "execution_count": 34,
   "metadata": {},
   "outputs": [
    {
     "data": {
      "text/plain": [
       "array([[1, 0, 0, 0, 0, 1, 0, 0, 1, 1, 0, 0],\n",
       "       [1, 1, 0, 0, 1, 1, 1, 0, 1, 1, 1, 1],\n",
       "       [1, 1, 1, 0, 1, 1, 1, 0, 1, 1, 1, 1],\n",
       "       [1, 1, 1, 1, 1, 1, 1, 1, 1, 1, 1, 1],\n",
       "       [1, 0, 0, 0, 1, 1, 0, 0, 1, 1, 0, 0],\n",
       "       [0, 0, 0, 0, 0, 1, 0, 0, 0, 1, 0, 0],\n",
       "       [1, 0, 0, 0, 1, 1, 1, 0, 1, 1, 1, 1],\n",
       "       [1, 1, 1, 0, 1, 1, 1, 1, 1, 1, 1, 1],\n",
       "       [0, 0, 0, 0, 0, 1, 0, 0, 1, 1, 0, 0],\n",
       "       [0, 0, 0, 0, 0, 0, 0, 0, 0, 1, 0, 0],\n",
       "       [1, 0, 0, 0, 1, 1, 0, 0, 1, 1, 1, 0],\n",
       "       [1, 0, 0, 0, 1, 1, 0, 0, 1, 1, 1, 1]])"
      ]
     },
     "execution_count": 34,
     "metadata": {},
     "output_type": "execute_result"
    }
   ],
   "source": [
    "promethee2_rank"
   ]
  },
  {
   "cell_type": "code",
   "execution_count": 35,
   "metadata": {},
   "outputs": [
    {
     "data": {
      "text/plain": [
       "np.float64(-0.01388888888888884)"
      ]
     },
     "execution_count": 35,
     "metadata": {},
     "output_type": "execute_result"
    }
   ],
   "source": [
    "rank_difference_measure(dict_to_matrix(new_promethee_partial['solution_r']).astype(int), promethee2_rank)"
   ]
  },
  {
   "cell_type": "code",
   "execution_count": 36,
   "metadata": {},
   "outputs": [
    {
     "data": {
      "image/png": "[encoded data removed]",
      "text/plain": [
       "<Figure size 640x480 with 1 Axes>"
      ]
     },
     "metadata": {},
     "output_type": "display_data"
    }
   ],
   "source": [
    "plot_hasse(dict_to_matrix(new_promethee_partial['solution_r']).astype(int), labels)"
   ]
  }
 ],
 "metadata": {
  "kernelspec": {
   "display_name": "gurobi",
   "language": "python",
   "name": "python3"
  },
  "language_info": {
   "codemirror_mode": {
    "name": "ipython",
    "version": 3
   },
   "file_extension": ".py",
   "mimetype": "text/x-python",
   "name": "python",
   "nbconvert_exporter": "python",
   "pygments_lexer": "ipython3",
   "version": "3.12.7"
  }
 },
 "nbformat": 4,
 "nbformat_minor": 2
}
